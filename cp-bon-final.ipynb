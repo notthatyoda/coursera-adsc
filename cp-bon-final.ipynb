{
 "cells": [
  {
   "cell_type": "markdown",
   "metadata": {},
   "source": [
    "## Introduction/Business Problem"
   ]
  },
  {
   "cell_type": "markdown",
   "metadata": {},
   "source": [
    "Background:\n",
    "Shyamal is the director of a leading travel and tourism company in India. The company serves foreign tourists only and provide services for arranging stays, local sightseeing and private cabs. His company also prints travel guides for all cities in India for its customers. As of now all travel guides are printed in English Language. Shyamal wants to experiment and provide localized versions to its customers. He wants Yoda to find out which other **two languages should be chosen for the travel guide. \n",
    "\n",
    "Additionally, he wants to finalize **five states for the beta launch of new sections** in travel guide. Shyamal also wants Yoda to highlight the **best most populous city to visit** (This is where we will have the Battle of Neighborhoods!) from the five selected selected states, as he plans to add content related to the same.\n",
    "\n",
    "Of the five cities selected, Shyamal also wants to **highlight which cities are most similar based on type of places to visit in those cities**.\n",
    "\n",
    "Target Audience: Tourists visiting India\n",
    "\n",
    "Why it is important to solve: Many tourists who do not understand English will benefit from localized version of the travel guide. Additionally, for state governments of the states selected in top 5, it will be a good excercise to review how they fare. They can run similar data science experiments at a larger scale to improve overall rating for tourists.\n",
    "\n",
    "As part of this capstone project Yoda will work on Shyamal's business problem and share his recommendations backed by data analysis."
   ]
  },
  {
   "cell_type": "markdown",
   "metadata": {},
   "source": [
    "## Data"
   ]
  },
  {
   "cell_type": "markdown",
   "metadata": {},
   "source": [
    "In order to find languages we choose for translation, we need to find tourists visiting India belong to which nation mainly. And what is the most prominent spoken language in that country. \n",
    "\n",
    "#### Data1 \n",
    "Yoda plans to use Indian Government data on foreign tourists to identify top nationalities. \n",
    "\n",
    "    [Foreign Tourist Arrivals In India from 2001 to 2015](https://data.gov.in/resources/foreign-tourist-arrivals-india-top-15-source-countries-2001-2015)\n",
    "\n",
    "    The above link provides data in various formats. Yoda plans to use CSV version. It contains yearly cumulative record of vistors from different countries sorted already\n",
    "    \n",
    "#### Data2\n",
    "Yoda will be using [wikipedia](https://en.wikipedia.org/wiki/List_of_official_languages_by_country_and_territory) to identify the official language for top 2 nations.\n",
    "\n",
    "    This page lists official languages for most nations. Yoda will leverage result of Data1 Analysis, to find **two languages** to be used for travel guides.\n",
    "\n",
    "#### Data3\n",
    "For finding the **states for beta launch**, Yoda needs to identify which states were visted the most by foreign tourists. \n",
    "\n",
    "Yoda will leverage [State/ UT wise] (https://data.gov.in/resources/stateut-wise-details-foreign-tourist-visits-2014-2016-ministry-tourism) data for this. \n",
    "\n",
    "The above link provides data in various formats. Yoda plans to use CSV version. \n",
    "\n",
    "Since each state has many cities, we will pick up top city by population(if available)  for the purpose of this assignment. We will obtain this data from [Wikipedia](https://en.wikipedia.org/wiki/List_of_cities_in_India_by_population)\n",
    "\n",
    "**Best populous city** to visit will be from the list.\n",
    "\n",
    "#### Data4\n",
    "For [best most populous to visit](https://developer.foursquare.com/docs/api/venues/explore), Yoda will use the foursquare APIs to find data for the cities identified in  *Data 3* section. This data will be used to rank cities based on most venues and most variety in venues (categories)\n",
    "\n",
    "Additionally data for cleanliness(Swatchhta) and price index will be used for ranking calculation. \n",
    "\n",
    "#### Data5\n",
    "Cleanliness data will be obtained from 2017 ranking [here](http://indpaedia.com/ind/index.php/Cleanliness_ranks_of_Indian_cities,_districts:_2017#Ranks_1-434:_The_complete_list). Since it ranks cities, Yoda will use this data directly and normalize it for ranking calculation.\n",
    "\n",
    "Price index data will be obtained from this [link](https://www.expatistan.com/cost-of-living/country/india). More the price index lower the rank. \n",
    "\n",
    "So, ranking R will be a function of data points obtained from foursquare API V (number of venues), C (number of categories), S (rank from Swatchhta Abhiyan), P (Price Index)\n",
    "\n",
    "**R = f(V,C,S,P)\n",
    "\n",
    "Yoda will use mean of ranks in each category to find the **best most populous city for visit\n",
    "\n",
    "Obviosuly one can add more parameters but for the purpose of this assignment Yoda will limit to these.\n",
    "\n",
    "\n",
    "#### Similar Cities\n",
    "Yoda will cluster five cities identified into two groups based on venue data obtained above. Cities falling in the same group will be considered similar\n"
   ]
  },
  {
   "cell_type": "markdown",
   "metadata": {},
   "source": [
    "## Data Analysis & Results"
   ]
  },
  {
   "cell_type": "markdown",
   "metadata": {},
   "source": [
    "Let's review the first dataset"
   ]
  },
  {
   "cell_type": "code",
   "execution_count": 44,
   "metadata": {},
   "outputs": [],
   "source": [
    "import pandas as pd\n",
    "\n",
    "df = pd.read_csv('country-wise.csv')"
   ]
  },
  {
   "cell_type": "code",
   "execution_count": 45,
   "metadata": {
    "scrolled": true
   },
   "outputs": [
    {
     "data": {
      "text/plain": [
       "(19, 16)"
      ]
     },
     "execution_count": 45,
     "metadata": {},
     "output_type": "execute_result"
    }
   ],
   "source": [
    "df.shape"
   ]
  },
  {
   "cell_type": "markdown",
   "metadata": {},
   "source": [
    "We can drop data for Others in the last row as we are interested in specific countries only"
   ]
  },
  {
   "cell_type": "code",
   "execution_count": 46,
   "metadata": {},
   "outputs": [],
   "source": [
    "df=df.drop(df.index[18])"
   ]
  },
  {
   "cell_type": "code",
   "execution_count": 47,
   "metadata": {},
   "outputs": [],
   "source": [
    "df['mean']=df.mean(axis=1)"
   ]
  },
  {
   "cell_type": "code",
   "execution_count": 48,
   "metadata": {},
   "outputs": [
    {
     "data": {
      "text/html": [
       "<div>\n",
       "<style>\n",
       "    .dataframe thead tr:only-child th {\n",
       "        text-align: right;\n",
       "    }\n",
       "\n",
       "    .dataframe thead th {\n",
       "        text-align: left;\n",
       "    }\n",
       "\n",
       "    .dataframe tbody tr th {\n",
       "        vertical-align: top;\n",
       "    }\n",
       "</style>\n",
       "<table border=\"1\" class=\"dataframe\">\n",
       "  <thead>\n",
       "    <tr style=\"text-align: right;\">\n",
       "      <th></th>\n",
       "      <th>Name of Countries</th>\n",
       "      <th>2001</th>\n",
       "      <th>2002</th>\n",
       "      <th>2003</th>\n",
       "      <th>2004</th>\n",
       "      <th>2005</th>\n",
       "      <th>2006</th>\n",
       "      <th>2007</th>\n",
       "      <th>2008</th>\n",
       "      <th>2009</th>\n",
       "      <th>2010</th>\n",
       "      <th>2011</th>\n",
       "      <th>2012</th>\n",
       "      <th>2013</th>\n",
       "      <th>2014</th>\n",
       "      <th>2015</th>\n",
       "      <th>mean</th>\n",
       "    </tr>\n",
       "  </thead>\n",
       "  <tbody>\n",
       "    <tr>\n",
       "      <th>0</th>\n",
       "      <td>USA</td>\n",
       "      <td>329147</td>\n",
       "      <td>348182</td>\n",
       "      <td>410803</td>\n",
       "      <td>526120</td>\n",
       "      <td>611165</td>\n",
       "      <td>696739</td>\n",
       "      <td>799062</td>\n",
       "      <td>804933</td>\n",
       "      <td>827140</td>\n",
       "      <td>931292</td>\n",
       "      <td>980688</td>\n",
       "      <td>1039947</td>\n",
       "      <td>1085309</td>\n",
       "      <td>1118983</td>\n",
       "      <td>1213624</td>\n",
       "      <td>781542.266667</td>\n",
       "    </tr>\n",
       "    <tr>\n",
       "      <th>1</th>\n",
       "      <td>UK</td>\n",
       "      <td>405472</td>\n",
       "      <td>387846</td>\n",
       "      <td>430917</td>\n",
       "      <td>555907</td>\n",
       "      <td>651803</td>\n",
       "      <td>734240</td>\n",
       "      <td>796191</td>\n",
       "      <td>776530</td>\n",
       "      <td>769251</td>\n",
       "      <td>759494</td>\n",
       "      <td>798249</td>\n",
       "      <td>788170</td>\n",
       "      <td>809444</td>\n",
       "      <td>942562</td>\n",
       "      <td>867601</td>\n",
       "      <td>698245.133333</td>\n",
       "    </tr>\n",
       "    <tr>\n",
       "      <th>2</th>\n",
       "      <td>BANGLADESH</td>\n",
       "      <td>431312</td>\n",
       "      <td>435867</td>\n",
       "      <td>454611</td>\n",
       "      <td>477446</td>\n",
       "      <td>456371</td>\n",
       "      <td>484401</td>\n",
       "      <td>480240</td>\n",
       "      <td>541884</td>\n",
       "      <td>468899</td>\n",
       "      <td>431962</td>\n",
       "      <td>463543</td>\n",
       "      <td>487397</td>\n",
       "      <td>524923</td>\n",
       "      <td>838860</td>\n",
       "      <td>1133879</td>\n",
       "      <td>540773.000000</td>\n",
       "    </tr>\n",
       "    <tr>\n",
       "      <th>3</th>\n",
       "      <td>SRILANKA</td>\n",
       "      <td>112813</td>\n",
       "      <td>108008</td>\n",
       "      <td>109098</td>\n",
       "      <td>128711</td>\n",
       "      <td>136400</td>\n",
       "      <td>154813</td>\n",
       "      <td>204084</td>\n",
       "      <td>218805</td>\n",
       "      <td>239995</td>\n",
       "      <td>266515</td>\n",
       "      <td>305853</td>\n",
       "      <td>296983</td>\n",
       "      <td>262345</td>\n",
       "      <td>301601</td>\n",
       "      <td>299513</td>\n",
       "      <td>209702.466667</td>\n",
       "    </tr>\n",
       "    <tr>\n",
       "      <th>4</th>\n",
       "      <td>CANADA</td>\n",
       "      <td>88600</td>\n",
       "      <td>93598</td>\n",
       "      <td>107671</td>\n",
       "      <td>135884</td>\n",
       "      <td>157643</td>\n",
       "      <td>176567</td>\n",
       "      <td>208214</td>\n",
       "      <td>222364</td>\n",
       "      <td>224069</td>\n",
       "      <td>242372</td>\n",
       "      <td>259017</td>\n",
       "      <td>256021</td>\n",
       "      <td>255222</td>\n",
       "      <td>268485</td>\n",
       "      <td>281306</td>\n",
       "      <td>198468.866667</td>\n",
       "    </tr>\n",
       "  </tbody>\n",
       "</table>\n",
       "</div>"
      ],
      "text/plain": [
       "  Name of Countries    2001    2002    2003    2004    2005    2006    2007  \\\n",
       "0               USA  329147  348182  410803  526120  611165  696739  799062   \n",
       "1                UK  405472  387846  430917  555907  651803  734240  796191   \n",
       "2        BANGLADESH  431312  435867  454611  477446  456371  484401  480240   \n",
       "3          SRILANKA  112813  108008  109098  128711  136400  154813  204084   \n",
       "4            CANADA   88600   93598  107671  135884  157643  176567  208214   \n",
       "\n",
       "     2008    2009    2010    2011     2012     2013     2014     2015  \\\n",
       "0  804933  827140  931292  980688  1039947  1085309  1118983  1213624   \n",
       "1  776530  769251  759494  798249   788170   809444   942562   867601   \n",
       "2  541884  468899  431962  463543   487397   524923   838860  1133879   \n",
       "3  218805  239995  266515  305853   296983   262345   301601   299513   \n",
       "4  222364  224069  242372  259017   256021   255222   268485   281306   \n",
       "\n",
       "            mean  \n",
       "0  781542.266667  \n",
       "1  698245.133333  \n",
       "2  540773.000000  \n",
       "3  209702.466667  \n",
       "4  198468.866667  "
      ]
     },
     "execution_count": 48,
     "metadata": {},
     "output_type": "execute_result"
    }
   ],
   "source": [
    "df.sort_values('mean', ascending=False).head()"
   ]
  },
  {
   "cell_type": "markdown",
   "metadata": {},
   "source": [
    "Let's see what's the top two official languages in these countries. "
   ]
  },
  {
   "cell_type": "code",
   "execution_count": 49,
   "metadata": {},
   "outputs": [],
   "source": [
    "wiki_data = pd.read_html(\"https://en.wikipedia.org/wiki/List_of_official_languages_by_country_and_territory\")"
   ]
  },
  {
   "cell_type": "markdown",
   "metadata": {},
   "source": [
    "The table we are interested is the third one on the page. Let's move that into a new data frame"
   ]
  },
  {
   "cell_type": "code",
   "execution_count": 50,
   "metadata": {},
   "outputs": [],
   "source": [
    "lan_country= wiki_data[2]"
   ]
  },
  {
   "cell_type": "code",
   "execution_count": 51,
   "metadata": {},
   "outputs": [
    {
     "data": {
      "text/html": [
       "<div>\n",
       "<style>\n",
       "    .dataframe thead tr:only-child th {\n",
       "        text-align: right;\n",
       "    }\n",
       "\n",
       "    .dataframe thead th {\n",
       "        text-align: left;\n",
       "    }\n",
       "\n",
       "    .dataframe tbody tr th {\n",
       "        vertical-align: top;\n",
       "    }\n",
       "</style>\n",
       "<table border=\"1\" class=\"dataframe\">\n",
       "  <thead>\n",
       "    <tr style=\"text-align: right;\">\n",
       "      <th></th>\n",
       "      <th>0</th>\n",
       "      <th>1</th>\n",
       "      <th>2</th>\n",
       "      <th>3</th>\n",
       "      <th>4</th>\n",
       "      <th>5</th>\n",
       "    </tr>\n",
       "  </thead>\n",
       "  <tbody>\n",
       "    <tr>\n",
       "      <th>0</th>\n",
       "      <td>Country</td>\n",
       "      <td>Official language</td>\n",
       "      <td>Regional language</td>\n",
       "      <td>Minority language</td>\n",
       "      <td>National language</td>\n",
       "      <td>Widely spoken</td>\n",
       "    </tr>\n",
       "    <tr>\n",
       "      <th>1</th>\n",
       "      <td>Abkhazia[a]</td>\n",
       "      <td>Abkhaz Russian</td>\n",
       "      <td>NaN</td>\n",
       "      <td>Georgian</td>\n",
       "      <td>Abkhaz</td>\n",
       "      <td>NaN</td>\n",
       "    </tr>\n",
       "    <tr>\n",
       "      <th>2</th>\n",
       "      <td>Afghanistan[1]</td>\n",
       "      <td>Pashto Dari</td>\n",
       "      <td>Uzbek[b] Turkmen[b] Pashai[b] Nuristani[b] Bal...</td>\n",
       "      <td>NaN</td>\n",
       "      <td>NaN</td>\n",
       "      <td>NaN</td>\n",
       "    </tr>\n",
       "    <tr>\n",
       "      <th>3</th>\n",
       "      <td>Albania[2]</td>\n",
       "      <td>Albanian</td>\n",
       "      <td>NaN</td>\n",
       "      <td>Greek Aromanian</td>\n",
       "      <td>NaN</td>\n",
       "      <td>Italian</td>\n",
       "    </tr>\n",
       "    <tr>\n",
       "      <th>4</th>\n",
       "      <td>Algeria[3]</td>\n",
       "      <td>Arabic Tamazight</td>\n",
       "      <td>NaN</td>\n",
       "      <td>NaN</td>\n",
       "      <td>Arabic Tamazight</td>\n",
       "      <td>French</td>\n",
       "    </tr>\n",
       "  </tbody>\n",
       "</table>\n",
       "</div>"
      ],
      "text/plain": [
       "                0                  1  \\\n",
       "0         Country  Official language   \n",
       "1     Abkhazia[a]     Abkhaz Russian   \n",
       "2  Afghanistan[1]        Pashto Dari   \n",
       "3      Albania[2]           Albanian   \n",
       "4      Algeria[3]   Arabic Tamazight   \n",
       "\n",
       "                                                   2                  3  \\\n",
       "0                                  Regional language  Minority language   \n",
       "1                                                NaN           Georgian   \n",
       "2  Uzbek[b] Turkmen[b] Pashai[b] Nuristani[b] Bal...                NaN   \n",
       "3                                                NaN    Greek Aromanian   \n",
       "4                                                NaN                NaN   \n",
       "\n",
       "                   4              5  \n",
       "0  National language  Widely spoken  \n",
       "1             Abkhaz            NaN  \n",
       "2                NaN            NaN  \n",
       "3                NaN        Italian  \n",
       "4   Arabic Tamazight         French  "
      ]
     },
     "execution_count": 51,
     "metadata": {},
     "output_type": "execute_result"
    }
   ],
   "source": [
    "lan_country.head()"
   ]
  },
  {
   "cell_type": "code",
   "execution_count": 52,
   "metadata": {},
   "outputs": [
    {
     "data": {
      "text/plain": [
       "Index(['Country', 'Ol', 'Other1', 'Other2', 'Other3', 'WS'], dtype='object')"
      ]
     },
     "execution_count": 52,
     "metadata": {},
     "output_type": "execute_result"
    }
   ],
   "source": [
    "lan_country=lan_country.rename(columns={0:'Country',1:'Ol',2: 'Other1',3:'Other2',4:'Other3',5:'WS'})\n",
    "lan_country.columns\n"
   ]
  },
  {
   "cell_type": "code",
   "execution_count": 53,
   "metadata": {},
   "outputs": [],
   "source": [
    "lan_country=lan_country[lan_country.Country!='Country']"
   ]
  },
  {
   "cell_type": "code",
   "execution_count": 54,
   "metadata": {},
   "outputs": [
    {
     "data": {
      "text/html": [
       "<div>\n",
       "<style>\n",
       "    .dataframe thead tr:only-child th {\n",
       "        text-align: right;\n",
       "    }\n",
       "\n",
       "    .dataframe thead th {\n",
       "        text-align: left;\n",
       "    }\n",
       "\n",
       "    .dataframe tbody tr th {\n",
       "        vertical-align: top;\n",
       "    }\n",
       "</style>\n",
       "<table border=\"1\" class=\"dataframe\">\n",
       "  <thead>\n",
       "    <tr style=\"text-align: right;\">\n",
       "      <th></th>\n",
       "      <th>Country</th>\n",
       "      <th>Ol</th>\n",
       "      <th>Other1</th>\n",
       "      <th>Other2</th>\n",
       "      <th>Other3</th>\n",
       "      <th>WS</th>\n",
       "    </tr>\n",
       "  </thead>\n",
       "  <tbody>\n",
       "    <tr>\n",
       "      <th>1</th>\n",
       "      <td>Abkhazia[a]</td>\n",
       "      <td>Abkhaz Russian</td>\n",
       "      <td>NaN</td>\n",
       "      <td>Georgian</td>\n",
       "      <td>Abkhaz</td>\n",
       "      <td>NaN</td>\n",
       "    </tr>\n",
       "    <tr>\n",
       "      <th>2</th>\n",
       "      <td>Afghanistan[1]</td>\n",
       "      <td>Pashto Dari</td>\n",
       "      <td>Uzbek[b] Turkmen[b] Pashai[b] Nuristani[b] Bal...</td>\n",
       "      <td>NaN</td>\n",
       "      <td>NaN</td>\n",
       "      <td>NaN</td>\n",
       "    </tr>\n",
       "    <tr>\n",
       "      <th>3</th>\n",
       "      <td>Albania[2]</td>\n",
       "      <td>Albanian</td>\n",
       "      <td>NaN</td>\n",
       "      <td>Greek Aromanian</td>\n",
       "      <td>NaN</td>\n",
       "      <td>Italian</td>\n",
       "    </tr>\n",
       "    <tr>\n",
       "      <th>4</th>\n",
       "      <td>Algeria[3]</td>\n",
       "      <td>Arabic Tamazight</td>\n",
       "      <td>NaN</td>\n",
       "      <td>NaN</td>\n",
       "      <td>Arabic Tamazight</td>\n",
       "      <td>French</td>\n",
       "    </tr>\n",
       "    <tr>\n",
       "      <th>5</th>\n",
       "      <td>Andorra</td>\n",
       "      <td>Catalan[4]</td>\n",
       "      <td>NaN</td>\n",
       "      <td>Spanish French Portuguese</td>\n",
       "      <td>NaN</td>\n",
       "      <td>NaN</td>\n",
       "    </tr>\n",
       "  </tbody>\n",
       "</table>\n",
       "</div>"
      ],
      "text/plain": [
       "          Country                Ol  \\\n",
       "1     Abkhazia[a]    Abkhaz Russian   \n",
       "2  Afghanistan[1]       Pashto Dari   \n",
       "3      Albania[2]          Albanian   \n",
       "4      Algeria[3]  Arabic Tamazight   \n",
       "5         Andorra        Catalan[4]   \n",
       "\n",
       "                                              Other1  \\\n",
       "1                                                NaN   \n",
       "2  Uzbek[b] Turkmen[b] Pashai[b] Nuristani[b] Bal...   \n",
       "3                                                NaN   \n",
       "4                                                NaN   \n",
       "5                                                NaN   \n",
       "\n",
       "                      Other2            Other3       WS  \n",
       "1                   Georgian            Abkhaz      NaN  \n",
       "2                        NaN               NaN      NaN  \n",
       "3            Greek Aromanian               NaN  Italian  \n",
       "4                        NaN  Arabic Tamazight   French  \n",
       "5  Spanish French Portuguese               NaN      NaN  "
      ]
     },
     "execution_count": 54,
     "metadata": {},
     "output_type": "execute_result"
    }
   ],
   "source": [
    "lan_country.head()"
   ]
  },
  {
   "cell_type": "code",
   "execution_count": 55,
   "metadata": {},
   "outputs": [
    {
     "data": {
      "text/html": [
       "<div>\n",
       "<style>\n",
       "    .dataframe thead tr:only-child th {\n",
       "        text-align: right;\n",
       "    }\n",
       "\n",
       "    .dataframe thead th {\n",
       "        text-align: left;\n",
       "    }\n",
       "\n",
       "    .dataframe tbody tr th {\n",
       "        vertical-align: top;\n",
       "    }\n",
       "</style>\n",
       "<table border=\"1\" class=\"dataframe\">\n",
       "  <thead>\n",
       "    <tr style=\"text-align: right;\">\n",
       "      <th></th>\n",
       "      <th>Country</th>\n",
       "      <th>Ol</th>\n",
       "      <th>Other1</th>\n",
       "      <th>Other2</th>\n",
       "      <th>Other3</th>\n",
       "      <th>WS</th>\n",
       "    </tr>\n",
       "  </thead>\n",
       "  <tbody>\n",
       "    <tr>\n",
       "      <th>17</th>\n",
       "      <td>Bangladesh</td>\n",
       "      <td>Bengali</td>\n",
       "      <td>NaN</td>\n",
       "      <td>NaN</td>\n",
       "      <td>Bengali</td>\n",
       "      <td>NaN</td>\n",
       "    </tr>\n",
       "    <tr>\n",
       "      <th>35</th>\n",
       "      <td>Canada</td>\n",
       "      <td>English (Federal) French (Federal)</td>\n",
       "      <td>Chipewyan (Northwest Territories) Cree (Northw...</td>\n",
       "      <td>Chipewyan Cree Gwich'in Inuinnaqtun Inuktitut ...</td>\n",
       "      <td>NaN</td>\n",
       "      <td>NaN</td>\n",
       "    </tr>\n",
       "    <tr>\n",
       "      <th>194</th>\n",
       "      <td>Sri Lanka</td>\n",
       "      <td>Sinhala Tamil</td>\n",
       "      <td>NaN</td>\n",
       "      <td>NaN</td>\n",
       "      <td>NaN</td>\n",
       "      <td>NaN</td>\n",
       "    </tr>\n",
       "    <tr>\n",
       "      <th>217</th>\n",
       "      <td>United Kingdom</td>\n",
       "      <td>English (de facto)</td>\n",
       "      <td>Cornish (in Cornwall)[67] Irish and Ulster-Sco...</td>\n",
       "      <td>NaN</td>\n",
       "      <td>NaN</td>\n",
       "      <td>NaN</td>\n",
       "    </tr>\n",
       "    <tr>\n",
       "      <th>218</th>\n",
       "      <td>United States</td>\n",
       "      <td>English (de facto)</td>\n",
       "      <td>(28 languages)</td>\n",
       "      <td>NaN</td>\n",
       "      <td>NaN</td>\n",
       "      <td>NaN</td>\n",
       "    </tr>\n",
       "  </tbody>\n",
       "</table>\n",
       "</div>"
      ],
      "text/plain": [
       "            Country                                  Ol  \\\n",
       "17       Bangladesh                             Bengali   \n",
       "35           Canada  English (Federal) French (Federal)   \n",
       "194       Sri Lanka                       Sinhala Tamil   \n",
       "217  United Kingdom                  English (de facto)   \n",
       "218   United States                  English (de facto)   \n",
       "\n",
       "                                                Other1  \\\n",
       "17                                                 NaN   \n",
       "35   Chipewyan (Northwest Territories) Cree (Northw...   \n",
       "194                                                NaN   \n",
       "217  Cornish (in Cornwall)[67] Irish and Ulster-Sco...   \n",
       "218                                     (28 languages)   \n",
       "\n",
       "                                                Other2   Other3   WS  \n",
       "17                                                 NaN  Bengali  NaN  \n",
       "35   Chipewyan Cree Gwich'in Inuinnaqtun Inuktitut ...      NaN  NaN  \n",
       "194                                                NaN      NaN  NaN  \n",
       "217                                                NaN      NaN  NaN  \n",
       "218                                                NaN      NaN  NaN  "
      ]
     },
     "execution_count": 55,
     "metadata": {},
     "output_type": "execute_result"
    }
   ],
   "source": [
    "lan_country[lan_country.Country.isin(['United States','United Kingdom','Bangladesh','Sri Lanka','Canada'])]"
   ]
  },
  {
   "cell_type": "markdown",
   "metadata": {},
   "source": [
    "Picking up the language data we get Bengali and Sinhala as the two languages"
   ]
  },
  {
   "cell_type": "markdown",
   "metadata": {},
   "source": [
    "Now going in for Battle of Neighbourhoods.Let's read tourists data by state"
   ]
  },
  {
   "cell_type": "code",
   "execution_count": 56,
   "metadata": {},
   "outputs": [],
   "source": [
    "tou_state=pd.read_csv('state-wise.csv')"
   ]
  },
  {
   "cell_type": "code",
   "execution_count": 57,
   "metadata": {},
   "outputs": [
    {
     "data": {
      "text/html": [
       "<div>\n",
       "<style>\n",
       "    .dataframe thead tr:only-child th {\n",
       "        text-align: right;\n",
       "    }\n",
       "\n",
       "    .dataframe thead th {\n",
       "        text-align: left;\n",
       "    }\n",
       "\n",
       "    .dataframe tbody tr th {\n",
       "        vertical-align: top;\n",
       "    }\n",
       "</style>\n",
       "<table border=\"1\" class=\"dataframe\">\n",
       "  <thead>\n",
       "    <tr style=\"text-align: right;\">\n",
       "      <th></th>\n",
       "      <th>Sr.No</th>\n",
       "      <th>State/UT</th>\n",
       "      <th>Year - 2014</th>\n",
       "      <th>Year - 2015</th>\n",
       "      <th>Year - 2016</th>\n",
       "    </tr>\n",
       "  </thead>\n",
       "  <tbody>\n",
       "    <tr>\n",
       "      <th>0</th>\n",
       "      <td>1</td>\n",
       "      <td>Andaman &amp; Nicobar Island</td>\n",
       "      <td>17235</td>\n",
       "      <td>14674</td>\n",
       "      <td>15466</td>\n",
       "    </tr>\n",
       "    <tr>\n",
       "      <th>1</th>\n",
       "      <td>2</td>\n",
       "      <td>Andhra Pradesh</td>\n",
       "      <td>66333</td>\n",
       "      <td>237854</td>\n",
       "      <td>341764</td>\n",
       "    </tr>\n",
       "    <tr>\n",
       "      <th>2</th>\n",
       "      <td>3</td>\n",
       "      <td>Arunachal Pradesh</td>\n",
       "      <td>5204</td>\n",
       "      <td>5705</td>\n",
       "      <td>6598</td>\n",
       "    </tr>\n",
       "    <tr>\n",
       "      <th>3</th>\n",
       "      <td>4</td>\n",
       "      <td>Assam</td>\n",
       "      <td>21537</td>\n",
       "      <td>24720</td>\n",
       "      <td>12685</td>\n",
       "    </tr>\n",
       "    <tr>\n",
       "      <th>4</th>\n",
       "      <td>5</td>\n",
       "      <td>Bihar</td>\n",
       "      <td>829508</td>\n",
       "      <td>923737</td>\n",
       "      <td>1010531</td>\n",
       "    </tr>\n",
       "  </tbody>\n",
       "</table>\n",
       "</div>"
      ],
      "text/plain": [
       "   Sr.No                  State/UT  Year - 2014  Year - 2015  Year - 2016\n",
       "0      1  Andaman & Nicobar Island        17235        14674        15466\n",
       "1      2            Andhra Pradesh        66333       237854       341764\n",
       "2      3         Arunachal Pradesh         5204         5705         6598\n",
       "3      4                     Assam        21537        24720        12685\n",
       "4      5                     Bihar       829508       923737      1010531"
      ]
     },
     "execution_count": 57,
     "metadata": {},
     "output_type": "execute_result"
    }
   ],
   "source": [
    "tou_state.head()"
   ]
  },
  {
   "cell_type": "markdown",
   "metadata": {},
   "source": [
    "Let's sort this by mean data for 3 yrs"
   ]
  },
  {
   "cell_type": "code",
   "execution_count": 58,
   "metadata": {},
   "outputs": [],
   "source": [
    "tou_state['mean']=tou_state.mean(axis=1)"
   ]
  },
  {
   "cell_type": "code",
   "execution_count": 59,
   "metadata": {},
   "outputs": [
    {
     "data": {
      "text/html": [
       "<div>\n",
       "<style>\n",
       "    .dataframe thead tr:only-child th {\n",
       "        text-align: right;\n",
       "    }\n",
       "\n",
       "    .dataframe thead th {\n",
       "        text-align: left;\n",
       "    }\n",
       "\n",
       "    .dataframe tbody tr th {\n",
       "        vertical-align: top;\n",
       "    }\n",
       "</style>\n",
       "<table border=\"1\" class=\"dataframe\">\n",
       "  <thead>\n",
       "    <tr style=\"text-align: right;\">\n",
       "      <th></th>\n",
       "      <th>Sr.No</th>\n",
       "      <th>State/UT</th>\n",
       "      <th>Year - 2014</th>\n",
       "      <th>Year - 2015</th>\n",
       "      <th>Year - 2016</th>\n",
       "      <th>mean</th>\n",
       "    </tr>\n",
       "  </thead>\n",
       "  <tbody>\n",
       "    <tr>\n",
       "      <th>30</th>\n",
       "      <td>31</td>\n",
       "      <td>Tamil Nadu</td>\n",
       "      <td>4657630</td>\n",
       "      <td>4684707</td>\n",
       "      <td>4721978</td>\n",
       "      <td>3516086.50</td>\n",
       "    </tr>\n",
       "    <tr>\n",
       "      <th>20</th>\n",
       "      <td>21</td>\n",
       "      <td>Maharashtra</td>\n",
       "      <td>4389098</td>\n",
       "      <td>4408916</td>\n",
       "      <td>4670049</td>\n",
       "      <td>3367021.00</td>\n",
       "    </tr>\n",
       "    <tr>\n",
       "      <th>33</th>\n",
       "      <td>34</td>\n",
       "      <td>Uttar Pradesh</td>\n",
       "      <td>2909735</td>\n",
       "      <td>3104062</td>\n",
       "      <td>3156812</td>\n",
       "      <td>2292660.75</td>\n",
       "    </tr>\n",
       "    <tr>\n",
       "      <th>9</th>\n",
       "      <td>10</td>\n",
       "      <td>Delhi</td>\n",
       "      <td>2319046</td>\n",
       "      <td>2379169</td>\n",
       "      <td>2520083</td>\n",
       "      <td>1804577.00</td>\n",
       "    </tr>\n",
       "    <tr>\n",
       "      <th>28</th>\n",
       "      <td>29</td>\n",
       "      <td>Rajasthan</td>\n",
       "      <td>1525574</td>\n",
       "      <td>1475311</td>\n",
       "      <td>1513729</td>\n",
       "      <td>1128660.75</td>\n",
       "    </tr>\n",
       "  </tbody>\n",
       "</table>\n",
       "</div>"
      ],
      "text/plain": [
       "    Sr.No       State/UT  Year - 2014  Year - 2015  Year - 2016        mean\n",
       "30     31     Tamil Nadu      4657630      4684707      4721978  3516086.50\n",
       "20     21    Maharashtra      4389098      4408916      4670049  3367021.00\n",
       "33     34  Uttar Pradesh      2909735      3104062      3156812  2292660.75\n",
       "9      10          Delhi      2319046      2379169      2520083  1804577.00\n",
       "28     29      Rajasthan      1525574      1475311      1513729  1128660.75"
      ]
     },
     "execution_count": 59,
     "metadata": {},
     "output_type": "execute_result"
    }
   ],
   "source": [
    "tou_state.sort_values('mean', ascending=False).head()"
   ]
  },
  {
   "cell_type": "markdown",
   "metadata": {},
   "source": [
    "So we have our top 5 states as per tourist data. Let's now compare these states on different parameters. First let's start with finding 5 most populous cities in each state. We will be leveraging Foursquare APIs to fetch data for these cities and then find the best state."
   ]
  },
  {
   "cell_type": "code",
   "execution_count": 60,
   "metadata": {},
   "outputs": [],
   "source": [
    "wiki_pop_data = pd.read_html(\"https://en.wikipedia.org/wiki/List_of_cities_in_India_by_population\")"
   ]
  },
  {
   "cell_type": "code",
   "execution_count": 61,
   "metadata": {},
   "outputs": [],
   "source": [
    "city_pop_data = wiki_pop_data[0]"
   ]
  },
  {
   "cell_type": "code",
   "execution_count": 62,
   "metadata": {},
   "outputs": [],
   "source": [
    "city_pop_data= city_pop_data.drop(city_pop_data.index[0])\n",
    "city_pop_data=city_pop_data.rename(columns={0:'Rank',1:'City',2:'Population-2011',3:'Population-2001',4:'STorUT'})"
   ]
  },
  {
   "cell_type": "code",
   "execution_count": 63,
   "metadata": {},
   "outputs": [],
   "source": [
    "five_state_data=city_pop_data[city_pop_data.STorUT.isin(['Tamil Nadu','Maharashtra','Uttar Pradesh','Delhi','Rajasthan'])==True]"
   ]
  },
  {
   "cell_type": "code",
   "execution_count": 64,
   "metadata": {
    "scrolled": true
   },
   "outputs": [
    {
     "data": {
      "text/plain": [
       "Rank               object\n",
       "City               object\n",
       "Population-2011    object\n",
       "Population-2001    object\n",
       "STorUT             object\n",
       "dtype: object"
      ]
     },
     "execution_count": 64,
     "metadata": {},
     "output_type": "execute_result"
    }
   ],
   "source": [
    "five_state_data.dtypes"
   ]
  },
  {
   "cell_type": "markdown",
   "metadata": {},
   "source": [
    "Let's clean data by removing unwanted String"
   ]
  },
  {
   "cell_type": "code",
   "execution_count": 65,
   "metadata": {},
   "outputs": [
    {
     "name": "stderr",
     "output_type": "stream",
     "text": [
      "/Users/arpit/anaconda3/lib/python3.6/site-packages/ipykernel/__main__.py:1: SettingWithCopyWarning: \n",
      "A value is trying to be set on a copy of a slice from a DataFrame.\n",
      "Try using .loc[row_indexer,col_indexer] = value instead\n",
      "\n",
      "See the caveats in the documentation: http://pandas.pydata.org/pandas-docs/stable/indexing.html#indexing-view-versus-copy\n",
      "  if __name__ == '__main__':\n"
     ]
    }
   ],
   "source": [
    "five_state_data['Population-2011'] = five_state_data['Population-2011'].map(lambda x: x.lstrip(',').rstrip('[*]'))"
   ]
  },
  {
   "cell_type": "code",
   "execution_count": 66,
   "metadata": {
    "scrolled": true
   },
   "outputs": [
    {
     "name": "stderr",
     "output_type": "stream",
     "text": [
      "/Users/arpit/anaconda3/lib/python3.6/site-packages/ipykernel/__main__.py:1: SettingWithCopyWarning: \n",
      "A value is trying to be set on a copy of a slice from a DataFrame.\n",
      "Try using .loc[row_indexer,col_indexer] = value instead\n",
      "\n",
      "See the caveats in the documentation: http://pandas.pydata.org/pandas-docs/stable/indexing.html#indexing-view-versus-copy\n",
      "  if __name__ == '__main__':\n",
      "/Users/arpit/anaconda3/lib/python3.6/site-packages/ipykernel/__main__.py:2: SettingWithCopyWarning: \n",
      "A value is trying to be set on a copy of a slice from a DataFrame.\n",
      "Try using .loc[row_indexer,col_indexer] = value instead\n",
      "\n",
      "See the caveats in the documentation: http://pandas.pydata.org/pandas-docs/stable/indexing.html#indexing-view-versus-copy\n",
      "  from ipykernel import kernelapp as app\n"
     ]
    },
    {
     "data": {
      "text/plain": [
       "Rank                int64\n",
       "City               object\n",
       "Population-2011     int64\n",
       "Population-2001    object\n",
       "STorUT             object\n",
       "dtype: object"
      ]
     },
     "execution_count": 66,
     "metadata": {},
     "output_type": "execute_result"
    }
   ],
   "source": [
    "five_state_data[\"Rank\"] = pd.to_numeric(five_state_data[\"Rank\"])\n",
    "five_state_data[\"Population-2011\"] = pd.to_numeric(five_state_data[\"Population-2011\"])\n",
    "five_state_data.dtypes\n"
   ]
  },
  {
   "cell_type": "markdown",
   "metadata": {},
   "source": [
    "Lets find top most populous cities for each state"
   ]
  },
  {
   "cell_type": "code",
   "execution_count": 67,
   "metadata": {},
   "outputs": [],
   "source": [
    " g = five_state_data.sort_values([\"STorUT\",\"Population-2011\"], ascending = False)"
   ]
  },
  {
   "cell_type": "code",
   "execution_count": 68,
   "metadata": {},
   "outputs": [
    {
     "data": {
      "text/html": [
       "<div>\n",
       "<style>\n",
       "    .dataframe thead tr:only-child th {\n",
       "        text-align: right;\n",
       "    }\n",
       "\n",
       "    .dataframe thead th {\n",
       "        text-align: left;\n",
       "    }\n",
       "\n",
       "    .dataframe tbody tr th {\n",
       "        vertical-align: top;\n",
       "    }\n",
       "</style>\n",
       "<table border=\"1\" class=\"dataframe\">\n",
       "  <thead>\n",
       "    <tr style=\"text-align: right;\">\n",
       "      <th></th>\n",
       "      <th>Rank</th>\n",
       "      <th>City</th>\n",
       "      <th>Population-2011</th>\n",
       "      <th>Population-2001</th>\n",
       "      <th>STorUT</th>\n",
       "    </tr>\n",
       "  </thead>\n",
       "  <tbody>\n",
       "    <tr>\n",
       "      <th>11</th>\n",
       "      <td>11</td>\n",
       "      <td>Lucknow</td>\n",
       "      <td>2817105</td>\n",
       "      <td>2185927</td>\n",
       "      <td>Uttar Pradesh</td>\n",
       "    </tr>\n",
       "    <tr>\n",
       "      <th>6</th>\n",
       "      <td>6</td>\n",
       "      <td>Chennai</td>\n",
       "      <td>4681087</td>\n",
       "      <td>4343645</td>\n",
       "      <td>Tamil Nadu</td>\n",
       "    </tr>\n",
       "    <tr>\n",
       "      <th>10</th>\n",
       "      <td>10</td>\n",
       "      <td>Jaipur</td>\n",
       "      <td>3046163</td>\n",
       "      <td>2322575</td>\n",
       "      <td>Rajasthan</td>\n",
       "    </tr>\n",
       "    <tr>\n",
       "      <th>1</th>\n",
       "      <td>1</td>\n",
       "      <td>Mumbai</td>\n",
       "      <td>12442373</td>\n",
       "      <td>11978450</td>\n",
       "      <td>Maharashtra</td>\n",
       "    </tr>\n",
       "    <tr>\n",
       "      <th>2</th>\n",
       "      <td>2</td>\n",
       "      <td>Delhi</td>\n",
       "      <td>11007835</td>\n",
       "      <td>9879172</td>\n",
       "      <td>Delhi</td>\n",
       "    </tr>\n",
       "  </tbody>\n",
       "</table>\n",
       "</div>"
      ],
      "text/plain": [
       "    Rank     City  Population-2011 Population-2001         STorUT\n",
       "11    11  Lucknow          2817105         2185927  Uttar Pradesh\n",
       "6      6  Chennai          4681087         4343645     Tamil Nadu\n",
       "10    10   Jaipur          3046163         2322575      Rajasthan\n",
       "1      1   Mumbai         12442373        11978450    Maharashtra\n",
       "2      2    Delhi         11007835         9879172          Delhi"
      ]
     },
     "execution_count": 68,
     "metadata": {},
     "output_type": "execute_result"
    }
   ],
   "source": [
    "g.groupby([\"STorUT\"]).head(1)"
   ]
  },
  {
   "cell_type": "markdown",
   "metadata": {},
   "source": [
    "So we have top 5 cities by population, one each from the 5 states where we plan to launch beta version of the new travel guide"
   ]
  },
  {
   "cell_type": "markdown",
   "metadata": {},
   "source": [
    "Let's use foursquare API to get top more data on these five cities"
   ]
  },
  {
   "cell_type": "code",
   "execution_count": 70,
   "metadata": {},
   "outputs": [],
   "source": [
    "CLIENT_ID =  # your Foursquare ID\n",
    "CLIENT_SECRET =  # your Foursquare Secret\n",
    "VERSION = '20180604'\n",
    "LIMIT = 50\n",
    "RADIUS = 50000"
   ]
  },
  {
   "cell_type": "markdown",
   "metadata": {},
   "source": [
    "### Import necessary Libraries"
   ]
  },
  {
   "cell_type": "code",
   "execution_count": 71,
   "metadata": {},
   "outputs": [
    {
     "name": "stdout",
     "output_type": "stream",
     "text": [
      "WARNING conda.base.context:use_only_tar_bz2(632): Conda is constrained to only using the old .tar.bz2 file format because you have conda-build installed, and it is <3.18.3.  Update or remove conda-build to get smaller downloads and faster extractions.\n",
      "Collecting package metadata (repodata.json): done\n",
      "Solving environment: done\n",
      "\n",
      "# All requested packages already installed.\n",
      "\n",
      "WARNING conda.base.context:use_only_tar_bz2(632): Conda is constrained to only using the old .tar.bz2 file format because you have conda-build installed, and it is <3.18.3.  Update or remove conda-build to get smaller downloads and faster extractions.\n",
      "Collecting package metadata (repodata.json): done\n",
      "Solving environment: done\n",
      "\n",
      "# All requested packages already installed.\n",
      "\n",
      "Libraries imported.\n"
     ]
    }
   ],
   "source": [
    "import requests # library to handle requests\n",
    "\n",
    "# tranforming json file into a pandas dataframe library\n",
    "from pandas.io.json import json_normalize\n",
    "\n",
    "!conda install -c conda-forge folium=0.5.0 --yes\n",
    "import folium # plotting library\n",
    "\n",
    "!conda install -c conda-forge geopy --yes \n",
    "from geopy.geocoders import Nominatim # module to convert an address into latitude and longitude values\n",
    "\n",
    "print('Libraries imported.')\n",
    "\n"
   ]
  },
  {
   "cell_type": "markdown",
   "metadata": {},
   "source": [
    "Let's create a new data frame having top 5 cities. To start with , let's include city name in the format <city>,<country short code>"
   ]
  },
  {
   "cell_type": "code",
   "execution_count": 72,
   "metadata": {},
   "outputs": [],
   "source": [
    "cities = ['Lucknow,UP','Chennai,TN','Jaipur,RJ','Mumbai,MH','Delhi,IN']"
   ]
  },
  {
   "cell_type": "markdown",
   "metadata": {},
   "source": [
    "Let's initialize latitude and longitude for each city with a default value. We will use Nominatim API later to fill in excat values"
   ]
  },
  {
   "cell_type": "code",
   "execution_count": 73,
   "metadata": {},
   "outputs": [
    {
     "data": {
      "text/html": [
       "<div>\n",
       "<style>\n",
       "    .dataframe thead tr:only-child th {\n",
       "        text-align: right;\n",
       "    }\n",
       "\n",
       "    .dataframe thead th {\n",
       "        text-align: left;\n",
       "    }\n",
       "\n",
       "    .dataframe tbody tr th {\n",
       "        vertical-align: top;\n",
       "    }\n",
       "</style>\n",
       "<table border=\"1\" class=\"dataframe\">\n",
       "  <thead>\n",
       "    <tr style=\"text-align: right;\">\n",
       "      <th></th>\n",
       "      <th>city</th>\n",
       "      <th>latitude</th>\n",
       "      <th>longitude</th>\n",
       "    </tr>\n",
       "  </thead>\n",
       "  <tbody>\n",
       "    <tr>\n",
       "      <th>0</th>\n",
       "      <td>Lucknow,UP</td>\n",
       "      <td>0</td>\n",
       "      <td>0</td>\n",
       "    </tr>\n",
       "    <tr>\n",
       "      <th>1</th>\n",
       "      <td>Chennai,TN</td>\n",
       "      <td>0</td>\n",
       "      <td>0</td>\n",
       "    </tr>\n",
       "    <tr>\n",
       "      <th>2</th>\n",
       "      <td>Jaipur,RJ</td>\n",
       "      <td>0</td>\n",
       "      <td>0</td>\n",
       "    </tr>\n",
       "    <tr>\n",
       "      <th>3</th>\n",
       "      <td>Mumbai,MH</td>\n",
       "      <td>0</td>\n",
       "      <td>0</td>\n",
       "    </tr>\n",
       "    <tr>\n",
       "      <th>4</th>\n",
       "      <td>Delhi,IN</td>\n",
       "      <td>0</td>\n",
       "      <td>0</td>\n",
       "    </tr>\n",
       "  </tbody>\n",
       "</table>\n",
       "</div>"
      ],
      "text/plain": [
       "         city  latitude  longitude\n",
       "0  Lucknow,UP         0          0\n",
       "1  Chennai,TN         0          0\n",
       "2   Jaipur,RJ         0          0\n",
       "3   Mumbai,MH         0          0\n",
       "4    Delhi,IN         0          0"
      ]
     },
     "execution_count": 73,
     "metadata": {},
     "output_type": "execute_result"
    }
   ],
   "source": [
    "import numpy as np\n",
    "\n",
    "top_5 = pd.DataFrame(data=cities, dtype=np.str,columns={'city'})\n",
    "top_5['latitude']=0\n",
    "top_5['longitude']=0\n",
    "top_5.head()"
   ]
  },
  {
   "cell_type": "markdown",
   "metadata": {},
   "source": [
    "Initialize geolocation object. Any user_agent value can be used. "
   ]
  },
  {
   "cell_type": "code",
   "execution_count": 74,
   "metadata": {},
   "outputs": [],
   "source": [
    "\n",
    "geolocator = Nominatim(user_agent=\"foursquare_agent\")"
   ]
  },
  {
   "cell_type": "code",
   "execution_count": 75,
   "metadata": {},
   "outputs": [],
   "source": [
    "# function that extracts the location of city\n",
    "def set_long_lat(address,index):\n",
    "    location = geolocator.geocode(address)\n",
    "    latitude = location.latitude\n",
    "    longitude = location.longitude\n",
    "    top_5.iloc[index,1]=latitude\n",
    "    top_5.iloc[index,2]=longitude\n"
   ]
  },
  {
   "cell_type": "markdown",
   "metadata": {},
   "source": [
    "Let's now call the above function for each of the top 5 city. We need to add some wait time for network call to finish. "
   ]
  },
  {
   "cell_type": "code",
   "execution_count": 76,
   "metadata": {
    "scrolled": true
   },
   "outputs": [
    {
     "data": {
      "text/html": [
       "<div>\n",
       "<style>\n",
       "    .dataframe thead tr:only-child th {\n",
       "        text-align: right;\n",
       "    }\n",
       "\n",
       "    .dataframe thead th {\n",
       "        text-align: left;\n",
       "    }\n",
       "\n",
       "    .dataframe tbody tr th {\n",
       "        vertical-align: top;\n",
       "    }\n",
       "</style>\n",
       "<table border=\"1\" class=\"dataframe\">\n",
       "  <thead>\n",
       "    <tr style=\"text-align: right;\">\n",
       "      <th></th>\n",
       "      <th>city</th>\n",
       "      <th>latitude</th>\n",
       "      <th>longitude</th>\n",
       "    </tr>\n",
       "  </thead>\n",
       "  <tbody>\n",
       "    <tr>\n",
       "      <th>0</th>\n",
       "      <td>Lucknow,UP</td>\n",
       "      <td>26.838100</td>\n",
       "      <td>80.934600</td>\n",
       "    </tr>\n",
       "    <tr>\n",
       "      <th>1</th>\n",
       "      <td>Chennai,TN</td>\n",
       "      <td>13.080172</td>\n",
       "      <td>80.283833</td>\n",
       "    </tr>\n",
       "    <tr>\n",
       "      <th>2</th>\n",
       "      <td>Jaipur,RJ</td>\n",
       "      <td>26.916194</td>\n",
       "      <td>75.820349</td>\n",
       "    </tr>\n",
       "    <tr>\n",
       "      <th>3</th>\n",
       "      <td>Mumbai,MH</td>\n",
       "      <td>18.938771</td>\n",
       "      <td>72.835335</td>\n",
       "    </tr>\n",
       "    <tr>\n",
       "      <th>4</th>\n",
       "      <td>Delhi,IN</td>\n",
       "      <td>28.651718</td>\n",
       "      <td>77.221939</td>\n",
       "    </tr>\n",
       "  </tbody>\n",
       "</table>\n",
       "</div>"
      ],
      "text/plain": [
       "         city   latitude  longitude\n",
       "0  Lucknow,UP  26.838100  80.934600\n",
       "1  Chennai,TN  13.080172  80.283833\n",
       "2   Jaipur,RJ  26.916194  75.820349\n",
       "3   Mumbai,MH  18.938771  72.835335\n",
       "4    Delhi,IN  28.651718  77.221939"
      ]
     },
     "execution_count": 76,
     "metadata": {},
     "output_type": "execute_result"
    }
   ],
   "source": [
    "import time\n",
    "\n",
    "# call the function for all cities\n",
    "i=0\n",
    "for city in top_5.city:\n",
    "    set_long_lat(city,i)\n",
    "    time.sleep(0.5)\n",
    "    i=i+1\n",
    "\n",
    "top_5.head()"
   ]
  },
  {
   "cell_type": "markdown",
   "metadata": {},
   "source": [
    "Let's locate these cities on map of India. We can take coordinates for India as 28.644800, 77.216721"
   ]
  },
  {
   "cell_type": "code",
   "execution_count": 77,
   "metadata": {
    "scrolled": true
   },
   "outputs": [
    {
     "data": {
      "text/html": [
       "<div style=\"width:100%;\"><div style=\"position:relative;width:100%;height:0;padding-bottom:60%;\"><iframe src=\"data:text/html;charset=utf-8;base64,PCFET0NUWVBFIGh0bWw+CjxoZWFkPiAgICAKICAgIDxtZXRhIGh0dHAtZXF1aXY9ImNvbnRlbnQtdHlwZSIgY29udGVudD0idGV4dC9odG1sOyBjaGFyc2V0PVVURi04IiAvPgogICAgPHNjcmlwdD5MX1BSRUZFUl9DQU5WQVMgPSBmYWxzZTsgTF9OT19UT1VDSCA9IGZhbHNlOyBMX0RJU0FCTEVfM0QgPSBmYWxzZTs8L3NjcmlwdD4KICAgIDxzY3JpcHQgc3JjPSJodHRwczovL2Nkbi5qc2RlbGl2ci5uZXQvbnBtL2xlYWZsZXRAMS4yLjAvZGlzdC9sZWFmbGV0LmpzIj48L3NjcmlwdD4KICAgIDxzY3JpcHQgc3JjPSJodHRwczovL2FqYXguZ29vZ2xlYXBpcy5jb20vYWpheC9saWJzL2pxdWVyeS8xLjExLjEvanF1ZXJ5Lm1pbi5qcyI+PC9zY3JpcHQ+CiAgICA8c2NyaXB0IHNyYz0iaHR0cHM6Ly9tYXhjZG4uYm9vdHN0cmFwY2RuLmNvbS9ib290c3RyYXAvMy4yLjAvanMvYm9vdHN0cmFwLm1pbi5qcyI+PC9zY3JpcHQ+CiAgICA8c2NyaXB0IHNyYz0iaHR0cHM6Ly9jZG5qcy5jbG91ZGZsYXJlLmNvbS9hamF4L2xpYnMvTGVhZmxldC5hd2Vzb21lLW1hcmtlcnMvMi4wLjIvbGVhZmxldC5hd2Vzb21lLW1hcmtlcnMuanMiPjwvc2NyaXB0PgogICAgPGxpbmsgcmVsPSJzdHlsZXNoZWV0IiBocmVmPSJodHRwczovL2Nkbi5qc2RlbGl2ci5uZXQvbnBtL2xlYWZsZXRAMS4yLjAvZGlzdC9sZWFmbGV0LmNzcyIvPgogICAgPGxpbmsgcmVsPSJzdHlsZXNoZWV0IiBocmVmPSJodHRwczovL21heGNkbi5ib290c3RyYXBjZG4uY29tL2Jvb3RzdHJhcC8zLjIuMC9jc3MvYm9vdHN0cmFwLm1pbi5jc3MiLz4KICAgIDxsaW5rIHJlbD0ic3R5bGVzaGVldCIgaHJlZj0iaHR0cHM6Ly9tYXhjZG4uYm9vdHN0cmFwY2RuLmNvbS9ib290c3RyYXAvMy4yLjAvY3NzL2Jvb3RzdHJhcC10aGVtZS5taW4uY3NzIi8+CiAgICA8bGluayByZWw9InN0eWxlc2hlZXQiIGhyZWY9Imh0dHBzOi8vbWF4Y2RuLmJvb3RzdHJhcGNkbi5jb20vZm9udC1hd2Vzb21lLzQuNi4zL2Nzcy9mb250LWF3ZXNvbWUubWluLmNzcyIvPgogICAgPGxpbmsgcmVsPSJzdHlsZXNoZWV0IiBocmVmPSJodHRwczovL2NkbmpzLmNsb3VkZmxhcmUuY29tL2FqYXgvbGlicy9MZWFmbGV0LmF3ZXNvbWUtbWFya2Vycy8yLjAuMi9sZWFmbGV0LmF3ZXNvbWUtbWFya2Vycy5jc3MiLz4KICAgIDxsaW5rIHJlbD0ic3R5bGVzaGVldCIgaHJlZj0iaHR0cHM6Ly9yYXdnaXQuY29tL3B5dGhvbi12aXN1YWxpemF0aW9uL2ZvbGl1bS9tYXN0ZXIvZm9saXVtL3RlbXBsYXRlcy9sZWFmbGV0LmF3ZXNvbWUucm90YXRlLmNzcyIvPgogICAgPHN0eWxlPmh0bWwsIGJvZHkge3dpZHRoOiAxMDAlO2hlaWdodDogMTAwJTttYXJnaW46IDA7cGFkZGluZzogMDt9PC9zdHlsZT4KICAgIDxzdHlsZT4jbWFwIHtwb3NpdGlvbjphYnNvbHV0ZTt0b3A6MDtib3R0b206MDtyaWdodDowO2xlZnQ6MDt9PC9zdHlsZT4KICAgIAogICAgICAgICAgICA8c3R5bGU+ICNtYXBfZTgxNGIxZWJhMGRjNGZjNWEzMTFjYWRhNDA5ZmE3ZjIgewogICAgICAgICAgICAgICAgcG9zaXRpb24gOiByZWxhdGl2ZTsKICAgICAgICAgICAgICAgIHdpZHRoIDogMTAwLjAlOwogICAgICAgICAgICAgICAgaGVpZ2h0OiAxMDAuMCU7CiAgICAgICAgICAgICAgICBsZWZ0OiAwLjAlOwogICAgICAgICAgICAgICAgdG9wOiAwLjAlOwogICAgICAgICAgICAgICAgfQogICAgICAgICAgICA8L3N0eWxlPgogICAgICAgIAo8L2hlYWQ+Cjxib2R5PiAgICAKICAgIAogICAgICAgICAgICA8ZGl2IGNsYXNzPSJmb2xpdW0tbWFwIiBpZD0ibWFwX2U4MTRiMWViYTBkYzRmYzVhMzExY2FkYTQwOWZhN2YyIiA+PC9kaXY+CiAgICAgICAgCjwvYm9keT4KPHNjcmlwdD4gICAgCiAgICAKCiAgICAgICAgICAgIAogICAgICAgICAgICAgICAgdmFyIGJvdW5kcyA9IG51bGw7CiAgICAgICAgICAgIAoKICAgICAgICAgICAgdmFyIG1hcF9lODE0YjFlYmEwZGM0ZmM1YTMxMWNhZGE0MDlmYTdmMiA9IEwubWFwKAogICAgICAgICAgICAgICAgICAgICAgICAgICAgICAgICAgJ21hcF9lODE0YjFlYmEwZGM0ZmM1YTMxMWNhZGE0MDlmYTdmMicsCiAgICAgICAgICAgICAgICAgICAgICAgICAgICAgICAgICB7Y2VudGVyOiBbMjguNjQ0OCw3Ny4yMTY3MjFdLAogICAgICAgICAgICAgICAgICAgICAgICAgICAgICAgICAgem9vbTogNCwKICAgICAgICAgICAgICAgICAgICAgICAgICAgICAgICAgIG1heEJvdW5kczogYm91bmRzLAogICAgICAgICAgICAgICAgICAgICAgICAgICAgICAgICAgbGF5ZXJzOiBbXSwKICAgICAgICAgICAgICAgICAgICAgICAgICAgICAgICAgIHdvcmxkQ29weUp1bXA6IGZhbHNlLAogICAgICAgICAgICAgICAgICAgICAgICAgICAgICAgICAgY3JzOiBMLkNSUy5FUFNHMzg1NwogICAgICAgICAgICAgICAgICAgICAgICAgICAgICAgICB9KTsKICAgICAgICAgICAgCiAgICAgICAgCiAgICAKICAgICAgICAgICAgdmFyIHRpbGVfbGF5ZXJfMjM2NDRjOGYwNWU2NDU1NTk5ZmFmNjA5NGE4NmJlOTMgPSBMLnRpbGVMYXllcigKICAgICAgICAgICAgICAgICdodHRwczovL3tzfS50aWxlLm9wZW5zdHJlZXRtYXAub3JnL3t6fS97eH0ve3l9LnBuZycsCiAgICAgICAgICAgICAgICB7CiAgImF0dHJpYnV0aW9uIjogbnVsbCwKICAiZGV0ZWN0UmV0aW5hIjogZmFsc2UsCiAgIm1heFpvb20iOiAxOCwKICAibWluWm9vbSI6IDEsCiAgIm5vV3JhcCI6IGZhbHNlLAogICJzdWJkb21haW5zIjogImFiYyIKfQogICAgICAgICAgICAgICAgKS5hZGRUbyhtYXBfZTgxNGIxZWJhMGRjNGZjNWEzMTFjYWRhNDA5ZmE3ZjIpOwogICAgICAgIAogICAgCiAgICAgICAgICAgIHZhciBjaXJjbGVfbWFya2VyXzc0MjgxY2EwZTcwNzRlNmE5MDM3MmIwOGI3MGNiMzA0ID0gTC5jaXJjbGVNYXJrZXIoCiAgICAgICAgICAgICAgICBbMjYuODM4MSw4MC45MzQ2MDAxXSwKICAgICAgICAgICAgICAgIHsKICAiYnViYmxpbmdNb3VzZUV2ZW50cyI6IHRydWUsCiAgImNvbG9yIjogImJsdWUiLAogICJkYXNoQXJyYXkiOiBudWxsLAogICJkYXNoT2Zmc2V0IjogbnVsbCwKICAiZmlsbCI6IHRydWUsCiAgImZpbGxDb2xvciI6ICIjMzE4NmNjIiwKICAiZmlsbE9wYWNpdHkiOiAwLjcsCiAgImZpbGxSdWxlIjogImV2ZW5vZGQiLAogICJsaW5lQ2FwIjogInJvdW5kIiwKICAibGluZUpvaW4iOiAicm91bmQiLAogICJvcGFjaXR5IjogMS4wLAogICJyYWRpdXMiOiA1LAogICJzdHJva2UiOiB0cnVlLAogICJ3ZWlnaHQiOiAzCn0KICAgICAgICAgICAgICAgICkuYWRkVG8obWFwX2U4MTRiMWViYTBkYzRmYzVhMzExY2FkYTQwOWZhN2YyKTsKICAgICAgICAgICAgCiAgICAKICAgICAgICAgICAgdmFyIHBvcHVwX2ViYzA4Yjg0NjQ4ODQ3NmU4Y2E0YWU3NmY5NTlkZWUyID0gTC5wb3B1cCh7bWF4V2lkdGg6ICczMDAnfSk7CgogICAgICAgICAgICAKICAgICAgICAgICAgICAgIHZhciBodG1sXzFiNWNkYjlmZTNmNTQ5ZjViMjM4ODFkY2U4M2ViZjk3ID0gJCgnPGRpdiBpZD0iaHRtbF8xYjVjZGI5ZmUzZjU0OWY1YjIzODgxZGNlODNlYmY5NyIgc3R5bGU9IndpZHRoOiAxMDAuMCU7IGhlaWdodDogMTAwLjAlOyI+THVja25vdyxVUDwvZGl2PicpWzBdOwogICAgICAgICAgICAgICAgcG9wdXBfZWJjMDhiODQ2NDg4NDc2ZThjYTRhZTc2Zjk1OWRlZTIuc2V0Q29udGVudChodG1sXzFiNWNkYjlmZTNmNTQ5ZjViMjM4ODFkY2U4M2ViZjk3KTsKICAgICAgICAgICAgCgogICAgICAgICAgICBjaXJjbGVfbWFya2VyXzc0MjgxY2EwZTcwNzRlNmE5MDM3MmIwOGI3MGNiMzA0LmJpbmRQb3B1cChwb3B1cF9lYmMwOGI4NDY0ODg0NzZlOGNhNGFlNzZmOTU5ZGVlMik7CgogICAgICAgICAgICAKICAgICAgICAKICAgIAogICAgICAgICAgICB2YXIgY2lyY2xlX21hcmtlcl9lMzdjMjNkZDI3NmE0MGU3YmI2N2Y0MTkwMjZjNGJlOSA9IEwuY2lyY2xlTWFya2VyKAogICAgICAgICAgICAgICAgWzEzLjA4MDE3MjEsODAuMjgzODMzMV0sCiAgICAgICAgICAgICAgICB7CiAgImJ1YmJsaW5nTW91c2VFdmVudHMiOiB0cnVlLAogICJjb2xvciI6ICJibHVlIiwKICAiZGFzaEFycmF5IjogbnVsbCwKICAiZGFzaE9mZnNldCI6IG51bGwsCiAgImZpbGwiOiB0cnVlLAogICJmaWxsQ29sb3IiOiAiIzMxODZjYyIsCiAgImZpbGxPcGFjaXR5IjogMC43LAogICJmaWxsUnVsZSI6ICJldmVub2RkIiwKICAibGluZUNhcCI6ICJyb3VuZCIsCiAgImxpbmVKb2luIjogInJvdW5kIiwKICAib3BhY2l0eSI6IDEuMCwKICAicmFkaXVzIjogNSwKICAic3Ryb2tlIjogdHJ1ZSwKICAid2VpZ2h0IjogMwp9CiAgICAgICAgICAgICAgICApLmFkZFRvKG1hcF9lODE0YjFlYmEwZGM0ZmM1YTMxMWNhZGE0MDlmYTdmMik7CiAgICAgICAgICAgIAogICAgCiAgICAgICAgICAgIHZhciBwb3B1cF9kMWE2ZmZlNDlhMWE0OWRiOWE3ZTZkNWJhMTMxMmJmNCA9IEwucG9wdXAoe21heFdpZHRoOiAnMzAwJ30pOwoKICAgICAgICAgICAgCiAgICAgICAgICAgICAgICB2YXIgaHRtbF82ZWNhZmEwZmEwZjE0YzUwOTA1ZjNiOWU3MDRjNzRkMSA9ICQoJzxkaXYgaWQ9Imh0bWxfNmVjYWZhMGZhMGYxNGM1MDkwNWYzYjllNzA0Yzc0ZDEiIHN0eWxlPSJ3aWR0aDogMTAwLjAlOyBoZWlnaHQ6IDEwMC4wJTsiPkNoZW5uYWksVE48L2Rpdj4nKVswXTsKICAgICAgICAgICAgICAgIHBvcHVwX2QxYTZmZmU0OWExYTQ5ZGI5YTdlNmQ1YmExMzEyYmY0LnNldENvbnRlbnQoaHRtbF82ZWNhZmEwZmEwZjE0YzUwOTA1ZjNiOWU3MDRjNzRkMSk7CiAgICAgICAgICAgIAoKICAgICAgICAgICAgY2lyY2xlX21hcmtlcl9lMzdjMjNkZDI3NmE0MGU3YmI2N2Y0MTkwMjZjNGJlOS5iaW5kUG9wdXAocG9wdXBfZDFhNmZmZTQ5YTFhNDlkYjlhN2U2ZDViYTEzMTJiZjQpOwoKICAgICAgICAgICAgCiAgICAgICAgCiAgICAKICAgICAgICAgICAgdmFyIGNpcmNsZV9tYXJrZXJfNTJjYmU5NGEwZTEzNGJiZGEyNjZkNzI3MWE1ZWExZTAgPSBMLmNpcmNsZU1hcmtlcigKICAgICAgICAgICAgICAgIFsyNi45MTYxOTQsNzUuODIwMzQ5XSwKICAgICAgICAgICAgICAgIHsKICAiYnViYmxpbmdNb3VzZUV2ZW50cyI6IHRydWUsCiAgImNvbG9yIjogImJsdWUiLAogICJkYXNoQXJyYXkiOiBudWxsLAogICJkYXNoT2Zmc2V0IjogbnVsbCwKICAiZmlsbCI6IHRydWUsCiAgImZpbGxDb2xvciI6ICIjMzE4NmNjIiwKICAiZmlsbE9wYWNpdHkiOiAwLjcsCiAgImZpbGxSdWxlIjogImV2ZW5vZGQiLAogICJsaW5lQ2FwIjogInJvdW5kIiwKICAibGluZUpvaW4iOiAicm91bmQiLAogICJvcGFjaXR5IjogMS4wLAogICJyYWRpdXMiOiA1LAogICJzdHJva2UiOiB0cnVlLAogICJ3ZWlnaHQiOiAzCn0KICAgICAgICAgICAgICAgICkuYWRkVG8obWFwX2U4MTRiMWViYTBkYzRmYzVhMzExY2FkYTQwOWZhN2YyKTsKICAgICAgICAgICAgCiAgICAKICAgICAgICAgICAgdmFyIHBvcHVwXzY3NGE5MTMzNzBlNDRlMjRiY2ExNDIxZjI5NDk2Y2QzID0gTC5wb3B1cCh7bWF4V2lkdGg6ICczMDAnfSk7CgogICAgICAgICAgICAKICAgICAgICAgICAgICAgIHZhciBodG1sXzAzMGE2MzkwMGQ5ZjRkMDRhN2E4NWU5NGM0NWEyYmM5ID0gJCgnPGRpdiBpZD0iaHRtbF8wMzBhNjM5MDBkOWY0ZDA0YTdhODVlOTRjNDVhMmJjOSIgc3R5bGU9IndpZHRoOiAxMDAuMCU7IGhlaWdodDogMTAwLjAlOyI+SmFpcHVyLFJKPC9kaXY+JylbMF07CiAgICAgICAgICAgICAgICBwb3B1cF82NzRhOTEzMzcwZTQ0ZTI0YmNhMTQyMWYyOTQ5NmNkMy5zZXRDb250ZW50KGh0bWxfMDMwYTYzOTAwZDlmNGQwNGE3YTg1ZTk0YzQ1YTJiYzkpOwogICAgICAgICAgICAKCiAgICAgICAgICAgIGNpcmNsZV9tYXJrZXJfNTJjYmU5NGEwZTEzNGJiZGEyNjZkNzI3MWE1ZWExZTAuYmluZFBvcHVwKHBvcHVwXzY3NGE5MTMzNzBlNDRlMjRiY2ExNDIxZjI5NDk2Y2QzKTsKCiAgICAgICAgICAgIAogICAgICAgIAogICAgCiAgICAgICAgICAgIHZhciBjaXJjbGVfbWFya2VyXzIyMzlmMTBkOTQ0NTRhNmI5YjI4YjFjMWRmYjY3MDQxID0gTC5jaXJjbGVNYXJrZXIoCiAgICAgICAgICAgICAgICBbMTguOTM4NzcxMSw3Mi44MzUzMzU1XSwKICAgICAgICAgICAgICAgIHsKICAiYnViYmxpbmdNb3VzZUV2ZW50cyI6IHRydWUsCiAgImNvbG9yIjogImJsdWUiLAogICJkYXNoQXJyYXkiOiBudWxsLAogICJkYXNoT2Zmc2V0IjogbnVsbCwKICAiZmlsbCI6IHRydWUsCiAgImZpbGxDb2xvciI6ICIjMzE4NmNjIiwKICAiZmlsbE9wYWNpdHkiOiAwLjcsCiAgImZpbGxSdWxlIjogImV2ZW5vZGQiLAogICJsaW5lQ2FwIjogInJvdW5kIiwKICAibGluZUpvaW4iOiAicm91bmQiLAogICJvcGFjaXR5IjogMS4wLAogICJyYWRpdXMiOiA1LAogICJzdHJva2UiOiB0cnVlLAogICJ3ZWlnaHQiOiAzCn0KICAgICAgICAgICAgICAgICkuYWRkVG8obWFwX2U4MTRiMWViYTBkYzRmYzVhMzExY2FkYTQwOWZhN2YyKTsKICAgICAgICAgICAgCiAgICAKICAgICAgICAgICAgdmFyIHBvcHVwX2NmZTc2OTlhYzlhYzQzYTU5NzBmOWNhYTkzOGFkZTYzID0gTC5wb3B1cCh7bWF4V2lkdGg6ICczMDAnfSk7CgogICAgICAgICAgICAKICAgICAgICAgICAgICAgIHZhciBodG1sXzA5N2QwMzNhYmQyYTQ5MGM4N2MxMWU2Zjc0MjcxYzk4ID0gJCgnPGRpdiBpZD0iaHRtbF8wOTdkMDMzYWJkMmE0OTBjODdjMTFlNmY3NDI3MWM5OCIgc3R5bGU9IndpZHRoOiAxMDAuMCU7IGhlaWdodDogMTAwLjAlOyI+TXVtYmFpLE1IPC9kaXY+JylbMF07CiAgICAgICAgICAgICAgICBwb3B1cF9jZmU3Njk5YWM5YWM0M2E1OTcwZjljYWE5MzhhZGU2My5zZXRDb250ZW50KGh0bWxfMDk3ZDAzM2FiZDJhNDkwYzg3YzExZTZmNzQyNzFjOTgpOwogICAgICAgICAgICAKCiAgICAgICAgICAgIGNpcmNsZV9tYXJrZXJfMjIzOWYxMGQ5NDQ1NGE2YjliMjhiMWMxZGZiNjcwNDEuYmluZFBvcHVwKHBvcHVwX2NmZTc2OTlhYzlhYzQzYTU5NzBmOWNhYTkzOGFkZTYzKTsKCiAgICAgICAgICAgIAogICAgICAgIAogICAgCiAgICAgICAgICAgIHZhciBjaXJjbGVfbWFya2VyX2M5MTg3ZDRkZWRjYjRiZDg4ODZmM2IyZGE3NmJlNThhID0gTC5jaXJjbGVNYXJrZXIoCiAgICAgICAgICAgICAgICBbMjguNjUxNzE3OCw3Ny4yMjE5Mzg4XSwKICAgICAgICAgICAgICAgIHsKICAiYnViYmxpbmdNb3VzZUV2ZW50cyI6IHRydWUsCiAgImNvbG9yIjogImJsdWUiLAogICJkYXNoQXJyYXkiOiBudWxsLAogICJkYXNoT2Zmc2V0IjogbnVsbCwKICAiZmlsbCI6IHRydWUsCiAgImZpbGxDb2xvciI6ICIjMzE4NmNjIiwKICAiZmlsbE9wYWNpdHkiOiAwLjcsCiAgImZpbGxSdWxlIjogImV2ZW5vZGQiLAogICJsaW5lQ2FwIjogInJvdW5kIiwKICAibGluZUpvaW4iOiAicm91bmQiLAogICJvcGFjaXR5IjogMS4wLAogICJyYWRpdXMiOiA1LAogICJzdHJva2UiOiB0cnVlLAogICJ3ZWlnaHQiOiAzCn0KICAgICAgICAgICAgICAgICkuYWRkVG8obWFwX2U4MTRiMWViYTBkYzRmYzVhMzExY2FkYTQwOWZhN2YyKTsKICAgICAgICAgICAgCiAgICAKICAgICAgICAgICAgdmFyIHBvcHVwXzA2YTBjM2UzMGUwZjQzMGFhZWYyMWYyZDY4MzRmYmI1ID0gTC5wb3B1cCh7bWF4V2lkdGg6ICczMDAnfSk7CgogICAgICAgICAgICAKICAgICAgICAgICAgICAgIHZhciBodG1sX2U2ZmU0MzZjOTU0MDQ2MjRhYThkZTEyZDQyMzJiODFlID0gJCgnPGRpdiBpZD0iaHRtbF9lNmZlNDM2Yzk1NDA0NjI0YWE4ZGUxMmQ0MjMyYjgxZSIgc3R5bGU9IndpZHRoOiAxMDAuMCU7IGhlaWdodDogMTAwLjAlOyI+RGVsaGksSU48L2Rpdj4nKVswXTsKICAgICAgICAgICAgICAgIHBvcHVwXzA2YTBjM2UzMGUwZjQzMGFhZWYyMWYyZDY4MzRmYmI1LnNldENvbnRlbnQoaHRtbF9lNmZlNDM2Yzk1NDA0NjI0YWE4ZGUxMmQ0MjMyYjgxZSk7CiAgICAgICAgICAgIAoKICAgICAgICAgICAgY2lyY2xlX21hcmtlcl9jOTE4N2Q0ZGVkY2I0YmQ4ODg2ZjNiMmRhNzZiZTU4YS5iaW5kUG9wdXAocG9wdXBfMDZhMGMzZTMwZTBmNDMwYWFlZjIxZjJkNjgzNGZiYjUpOwoKICAgICAgICAgICAgCiAgICAgICAgCjwvc2NyaXB0Pg==\" style=\"position:absolute;width:100%;height:100%;left:0;top:0;border:none !important;\" allowfullscreen webkitallowfullscreen mozallowfullscreen></iframe></div></div>"
      ],
      "text/plain": [
       "<folium.folium.Map at 0x118f1c780>"
      ]
     },
     "execution_count": 77,
     "metadata": {},
     "output_type": "execute_result"
    }
   ],
   "source": [
    "# create map of India using latitude and longitude values\n",
    "map_india = folium.Map(location=[28.644800, 77.216721], zoom_start=4)\n",
    "\n",
    "# add markers to map\n",
    "for lat, lng, label in zip(top_5['latitude'], top_5['longitude'], top_5['city']):\n",
    "    label = folium.Popup(label, parse_html=True)\n",
    "    folium.CircleMarker(\n",
    "        [lat, lng],\n",
    "        radius=5,\n",
    "        popup=label,\n",
    "        color='blue',\n",
    "        fill=True,\n",
    "        fill_color='#3186cc',\n",
    "        fill_opacity=0.7,\n",
    "        parse_html=False).add_to(map_india)  \n",
    "    \n",
    "map_india"
   ]
  },
  {
   "cell_type": "markdown",
   "metadata": {},
   "source": [
    "Commented code below can be used to save data to file to avoid calling APIs again and again."
   ]
  },
  {
   "cell_type": "code",
   "execution_count": 78,
   "metadata": {},
   "outputs": [],
   "source": [
    "#top_5.to_csv('top_5_location.txt', sep=',')\n",
    "#Temp save data to avoid API calls again and again\n",
    "#top_5= pd.read_csv('top_5_location.txt',sep=',', index_col=0)"
   ]
  },
  {
   "cell_type": "markdown",
   "metadata": {},
   "source": [
    "#### Define url for foursquare call"
   ]
  },
  {
   "cell_type": "code",
   "execution_count": 79,
   "metadata": {},
   "outputs": [],
   "source": [
    "i=0\n",
    "top_5['f_url']=\"\" #initialize foursquare url for each city with empty url\n",
    "for city in top_5.city:\n",
    "    top_5.iloc[i,3]='https://api.foursquare.com/v2/venues/search?client_id={}&client_secret={}&ll={},{}&v={}&radius={}&section={}&limit={}'.format(CLIENT_ID, CLIENT_SECRET,  top_5.iloc[i,1],  top_5.iloc[i,2], VERSION, RADIUS,'outdoors', 500)\n",
    "    i=i+1"
   ]
  },
  {
   "cell_type": "code",
   "execution_count": 49,
   "metadata": {},
   "outputs": [],
   "source": [
    "# Let's review if we have got correct urls\n",
    "#pd.options.display.max_colwidth = 500\n",
    "#top_5['f_url']\n",
    "\n",
    "#results = requests.get(top_5.iloc[0,3]).json()[\"response\"]"
   ]
  },
  {
   "cell_type": "markdown",
   "metadata": {},
   "source": [
    "Let's clean city names "
   ]
  },
  {
   "cell_type": "code",
   "execution_count": 80,
   "metadata": {},
   "outputs": [],
   "source": [
    "top_5['city']= top_5['city'].astype(str).str[:-3]"
   ]
  },
  {
   "cell_type": "code",
   "execution_count": 81,
   "metadata": {},
   "outputs": [
    {
     "data": {
      "text/html": [
       "<div>\n",
       "<style>\n",
       "    .dataframe thead tr:only-child th {\n",
       "        text-align: right;\n",
       "    }\n",
       "\n",
       "    .dataframe thead th {\n",
       "        text-align: left;\n",
       "    }\n",
       "\n",
       "    .dataframe tbody tr th {\n",
       "        vertical-align: top;\n",
       "    }\n",
       "</style>\n",
       "<table border=\"1\" class=\"dataframe\">\n",
       "  <thead>\n",
       "    <tr style=\"text-align: right;\">\n",
       "      <th></th>\n",
       "      <th>city</th>\n",
       "      <th>latitude</th>\n",
       "      <th>longitude</th>\n",
       "      <th>f_url</th>\n",
       "    </tr>\n",
       "  </thead>\n",
       "  <tbody>\n",
       "    <tr>\n",
       "      <th>0</th>\n",
       "      <td>Lucknow</td>\n",
       "      <td>26.838100</td>\n",
       "      <td>80.934600</td>\n",
       "      <td>https://api.foursquare.com/v2/venues/search?cl...</td>\n",
       "    </tr>\n",
       "    <tr>\n",
       "      <th>1</th>\n",
       "      <td>Chennai</td>\n",
       "      <td>13.080172</td>\n",
       "      <td>80.283833</td>\n",
       "      <td>https://api.foursquare.com/v2/venues/search?cl...</td>\n",
       "    </tr>\n",
       "    <tr>\n",
       "      <th>2</th>\n",
       "      <td>Jaipur</td>\n",
       "      <td>26.916194</td>\n",
       "      <td>75.820349</td>\n",
       "      <td>https://api.foursquare.com/v2/venues/search?cl...</td>\n",
       "    </tr>\n",
       "    <tr>\n",
       "      <th>3</th>\n",
       "      <td>Mumbai</td>\n",
       "      <td>18.938771</td>\n",
       "      <td>72.835335</td>\n",
       "      <td>https://api.foursquare.com/v2/venues/search?cl...</td>\n",
       "    </tr>\n",
       "    <tr>\n",
       "      <th>4</th>\n",
       "      <td>Delhi</td>\n",
       "      <td>28.651718</td>\n",
       "      <td>77.221939</td>\n",
       "      <td>https://api.foursquare.com/v2/venues/search?cl...</td>\n",
       "    </tr>\n",
       "  </tbody>\n",
       "</table>\n",
       "</div>"
      ],
      "text/plain": [
       "      city   latitude  longitude  \\\n",
       "0  Lucknow  26.838100  80.934600   \n",
       "1  Chennai  13.080172  80.283833   \n",
       "2   Jaipur  26.916194  75.820349   \n",
       "3   Mumbai  18.938771  72.835335   \n",
       "4    Delhi  28.651718  77.221939   \n",
       "\n",
       "                                               f_url  \n",
       "0  https://api.foursquare.com/v2/venues/search?cl...  \n",
       "1  https://api.foursquare.com/v2/venues/search?cl...  \n",
       "2  https://api.foursquare.com/v2/venues/search?cl...  \n",
       "3  https://api.foursquare.com/v2/venues/search?cl...  \n",
       "4  https://api.foursquare.com/v2/venues/search?cl...  "
      ]
     },
     "execution_count": 81,
     "metadata": {},
     "output_type": "execute_result"
    }
   ],
   "source": [
    "top_5.head()"
   ]
  },
  {
   "cell_type": "code",
   "execution_count": 82,
   "metadata": {},
   "outputs": [],
   "source": [
    "#Define a function to get nearby venues for cities\n",
    "LIMIT = 500 \n",
    "\n",
    "def getNearbyVenues(cities):\n",
    "    i=0\n",
    "    venues_list=[]\n",
    "    for city in zip(cities):\n",
    "        # make the GET request\n",
    "        furl = top_5.iloc[i,3]\n",
    "        results = requests.get(furl).json()[\"response\"]['venues']\n",
    "        for v in results:\n",
    "            if(v['categories']):\n",
    "            # return only relevant information for each nearby venue\n",
    "                venues_list.append([(\n",
    "                    city, \n",
    "                    lat, \n",
    "                    lng, \n",
    "                    v['name'], \n",
    "                    v['location']['lat'], \n",
    "                    v['location']['lng'],  \n",
    "                    v['categories'][0]['name']) ])\n",
    "            else:  \n",
    "                venues_list.append([(\n",
    "                    city, \n",
    "                    lat, \n",
    "                    lng, \n",
    "                    v['name'], \n",
    "                    v['location']['lat'], \n",
    "                    v['location']['lng'],  \n",
    "                    'No Category') for v in results])\n",
    "        i=i+1        \n",
    "    nearby_venues = pd.DataFrame([item for venue_list in venues_list for item in venue_list])\n",
    "    nearby_venues.columns = ['city', \n",
    "                  'latitude', \n",
    "                  'longitude', \n",
    "                  'venue', \n",
    "                  'venue latitude', \n",
    "                  'venue longitude', \n",
    "                  'venue category']\n",
    "    \n",
    "    return(nearby_venues)"
   ]
  },
  {
   "cell_type": "markdown",
   "metadata": {},
   "source": [
    "Let's push venues for all cities in a new dataframe"
   ]
  },
  {
   "cell_type": "code",
   "execution_count": 83,
   "metadata": {},
   "outputs": [],
   "source": [
    "all_city_venues = getNearbyVenues(top_5['city'])"
   ]
  },
  {
   "cell_type": "markdown",
   "metadata": {},
   "source": [
    "We can drop f_url column from dataframe as we do not need that anymore"
   ]
  },
  {
   "cell_type": "code",
   "execution_count": 84,
   "metadata": {},
   "outputs": [],
   "source": [
    "top_5.drop('f_url',axis=1,inplace=True)"
   ]
  },
  {
   "cell_type": "markdown",
   "metadata": {},
   "source": [
    "Let's find total venue count for each city"
   ]
  },
  {
   "cell_type": "code",
   "execution_count": 85,
   "metadata": {},
   "outputs": [],
   "source": [
    "total_all_city = all_city_venues.groupby('city').count()"
   ]
  },
  {
   "cell_type": "code",
   "execution_count": 86,
   "metadata": {},
   "outputs": [],
   "source": [
    "#all_city_venues.to_csv('all_city_venues.txt', sep=',')\n",
    "#Temp save data to avoid API calls again and again\n",
    "#all_city_venues= pd.read_csv('all_city_venues.txt',sep=',', index_col=0)"
   ]
  },
  {
   "cell_type": "code",
   "execution_count": 87,
   "metadata": {
    "scrolled": true
   },
   "outputs": [
    {
     "data": {
      "text/html": [
       "<div>\n",
       "<style>\n",
       "    .dataframe thead tr:only-child th {\n",
       "        text-align: right;\n",
       "    }\n",
       "\n",
       "    .dataframe thead th {\n",
       "        text-align: left;\n",
       "    }\n",
       "\n",
       "    .dataframe tbody tr th {\n",
       "        vertical-align: top;\n",
       "    }\n",
       "</style>\n",
       "<table border=\"1\" class=\"dataframe\">\n",
       "  <thead>\n",
       "    <tr style=\"text-align: right;\">\n",
       "      <th></th>\n",
       "      <th>latitude</th>\n",
       "      <th>longitude</th>\n",
       "      <th>venue</th>\n",
       "      <th>venue latitude</th>\n",
       "      <th>venue longitude</th>\n",
       "      <th>venue category</th>\n",
       "    </tr>\n",
       "    <tr>\n",
       "      <th>city</th>\n",
       "      <th></th>\n",
       "      <th></th>\n",
       "      <th></th>\n",
       "      <th></th>\n",
       "      <th></th>\n",
       "      <th></th>\n",
       "    </tr>\n",
       "  </thead>\n",
       "  <tbody>\n",
       "    <tr>\n",
       "      <th>(Chennai,)</th>\n",
       "      <td>3169</td>\n",
       "      <td>3169</td>\n",
       "      <td>3169</td>\n",
       "      <td>3169</td>\n",
       "      <td>3169</td>\n",
       "      <td>3169</td>\n",
       "    </tr>\n",
       "    <tr>\n",
       "      <th>(Delhi,)</th>\n",
       "      <td>1611</td>\n",
       "      <td>1611</td>\n",
       "      <td>1611</td>\n",
       "      <td>1611</td>\n",
       "      <td>1611</td>\n",
       "      <td>1611</td>\n",
       "    </tr>\n",
       "    <tr>\n",
       "      <th>(Jaipur,)</th>\n",
       "      <td>750</td>\n",
       "      <td>750</td>\n",
       "      <td>750</td>\n",
       "      <td>750</td>\n",
       "      <td>750</td>\n",
       "      <td>750</td>\n",
       "    </tr>\n",
       "    <tr>\n",
       "      <th>(Lucknow,)</th>\n",
       "      <td>3676</td>\n",
       "      <td>3676</td>\n",
       "      <td>3676</td>\n",
       "      <td>3676</td>\n",
       "      <td>3676</td>\n",
       "      <td>3676</td>\n",
       "    </tr>\n",
       "    <tr>\n",
       "      <th>(Mumbai,)</th>\n",
       "      <td>4633</td>\n",
       "      <td>4633</td>\n",
       "      <td>4633</td>\n",
       "      <td>4633</td>\n",
       "      <td>4633</td>\n",
       "      <td>4633</td>\n",
       "    </tr>\n",
       "  </tbody>\n",
       "</table>\n",
       "</div>"
      ],
      "text/plain": [
       "            latitude  longitude  venue  venue latitude  venue longitude  \\\n",
       "city                                                                      \n",
       "(Chennai,)      3169       3169   3169            3169             3169   \n",
       "(Delhi,)        1611       1611   1611            1611             1611   \n",
       "(Jaipur,)        750        750    750             750              750   \n",
       "(Lucknow,)      3676       3676   3676            3676             3676   \n",
       "(Mumbai,)       4633       4633   4633            4633             4633   \n",
       "\n",
       "            venue category  \n",
       "city                        \n",
       "(Chennai,)            3169  \n",
       "(Delhi,)              1611  \n",
       "(Jaipur,)              750  \n",
       "(Lucknow,)            3676  \n",
       "(Mumbai,)             4633  "
      ]
     },
     "execution_count": 87,
     "metadata": {},
     "output_type": "execute_result"
    }
   ],
   "source": [
    "total_all_city"
   ]
  },
  {
   "cell_type": "markdown",
   "metadata": {},
   "source": [
    "Let's add a ranking based on total venues"
   ]
  },
  {
   "cell_type": "code",
   "execution_count": 88,
   "metadata": {},
   "outputs": [
    {
     "data": {
      "text/html": [
       "<div>\n",
       "<style>\n",
       "    .dataframe thead tr:only-child th {\n",
       "        text-align: right;\n",
       "    }\n",
       "\n",
       "    .dataframe thead th {\n",
       "        text-align: left;\n",
       "    }\n",
       "\n",
       "    .dataframe tbody tr th {\n",
       "        vertical-align: top;\n",
       "    }\n",
       "</style>\n",
       "<table border=\"1\" class=\"dataframe\">\n",
       "  <thead>\n",
       "    <tr style=\"text-align: right;\">\n",
       "      <th></th>\n",
       "      <th>latitude</th>\n",
       "      <th>longitude</th>\n",
       "      <th>venue</th>\n",
       "      <th>venue latitude</th>\n",
       "      <th>venue longitude</th>\n",
       "      <th>venue category</th>\n",
       "    </tr>\n",
       "    <tr>\n",
       "      <th>city</th>\n",
       "      <th></th>\n",
       "      <th></th>\n",
       "      <th></th>\n",
       "      <th></th>\n",
       "      <th></th>\n",
       "      <th></th>\n",
       "    </tr>\n",
       "  </thead>\n",
       "  <tbody>\n",
       "    <tr>\n",
       "      <th>(Mumbai,)</th>\n",
       "      <td>4633</td>\n",
       "      <td>4633</td>\n",
       "      <td>4633</td>\n",
       "      <td>4633</td>\n",
       "      <td>4633</td>\n",
       "      <td>4633</td>\n",
       "    </tr>\n",
       "    <tr>\n",
       "      <th>(Lucknow,)</th>\n",
       "      <td>3676</td>\n",
       "      <td>3676</td>\n",
       "      <td>3676</td>\n",
       "      <td>3676</td>\n",
       "      <td>3676</td>\n",
       "      <td>3676</td>\n",
       "    </tr>\n",
       "    <tr>\n",
       "      <th>(Chennai,)</th>\n",
       "      <td>3169</td>\n",
       "      <td>3169</td>\n",
       "      <td>3169</td>\n",
       "      <td>3169</td>\n",
       "      <td>3169</td>\n",
       "      <td>3169</td>\n",
       "    </tr>\n",
       "    <tr>\n",
       "      <th>(Delhi,)</th>\n",
       "      <td>1611</td>\n",
       "      <td>1611</td>\n",
       "      <td>1611</td>\n",
       "      <td>1611</td>\n",
       "      <td>1611</td>\n",
       "      <td>1611</td>\n",
       "    </tr>\n",
       "    <tr>\n",
       "      <th>(Jaipur,)</th>\n",
       "      <td>750</td>\n",
       "      <td>750</td>\n",
       "      <td>750</td>\n",
       "      <td>750</td>\n",
       "      <td>750</td>\n",
       "      <td>750</td>\n",
       "    </tr>\n",
       "  </tbody>\n",
       "</table>\n",
       "</div>"
      ],
      "text/plain": [
       "            latitude  longitude  venue  venue latitude  venue longitude  \\\n",
       "city                                                                      \n",
       "(Mumbai,)       4633       4633   4633            4633             4633   \n",
       "(Lucknow,)      3676       3676   3676            3676             3676   \n",
       "(Chennai,)      3169       3169   3169            3169             3169   \n",
       "(Delhi,)        1611       1611   1611            1611             1611   \n",
       "(Jaipur,)        750        750    750             750              750   \n",
       "\n",
       "            venue category  \n",
       "city                        \n",
       "(Mumbai,)             4633  \n",
       "(Lucknow,)            3676  \n",
       "(Chennai,)            3169  \n",
       "(Delhi,)              1611  \n",
       "(Jaipur,)              750  "
      ]
     },
     "execution_count": 88,
     "metadata": {},
     "output_type": "execute_result"
    }
   ],
   "source": [
    "total_all_city.sort_values('venue',ascending=False)"
   ]
  },
  {
   "cell_type": "code",
   "execution_count": 89,
   "metadata": {},
   "outputs": [],
   "source": [
    "top_5['venue_rank']=0 #initialize with zero rank\n"
   ]
  },
  {
   "cell_type": "code",
   "execution_count": 90,
   "metadata": {
    "scrolled": true
   },
   "outputs": [],
   "source": [
    "top_5.loc[top_5[top_5['city'] == 'Mumbai'].index,'venue_rank']=1\n",
    "top_5.loc[top_5[top_5['city'] == 'Lucknow'].index,'venue_rank']=2\n",
    "top_5.loc[top_5[top_5['city'] == 'Chennai'].index,'venue_rank']=3\n",
    "top_5.loc[top_5[top_5['city'] == 'Delhi'].index,'venue_rank']=4\n",
    "top_5.loc[top_5[top_5['city'] == 'Jaipur'].index,'venue_rank']=5\n",
    "\n",
    "\n"
   ]
  },
  {
   "cell_type": "code",
   "execution_count": 91,
   "metadata": {
    "scrolled": true
   },
   "outputs": [
    {
     "data": {
      "text/html": [
       "<div>\n",
       "<style>\n",
       "    .dataframe thead tr:only-child th {\n",
       "        text-align: right;\n",
       "    }\n",
       "\n",
       "    .dataframe thead th {\n",
       "        text-align: left;\n",
       "    }\n",
       "\n",
       "    .dataframe tbody tr th {\n",
       "        vertical-align: top;\n",
       "    }\n",
       "</style>\n",
       "<table border=\"1\" class=\"dataframe\">\n",
       "  <thead>\n",
       "    <tr style=\"text-align: right;\">\n",
       "      <th></th>\n",
       "      <th>city</th>\n",
       "      <th>latitude</th>\n",
       "      <th>longitude</th>\n",
       "      <th>venue_rank</th>\n",
       "    </tr>\n",
       "  </thead>\n",
       "  <tbody>\n",
       "    <tr>\n",
       "      <th>0</th>\n",
       "      <td>Lucknow</td>\n",
       "      <td>26.838100</td>\n",
       "      <td>80.934600</td>\n",
       "      <td>2</td>\n",
       "    </tr>\n",
       "    <tr>\n",
       "      <th>1</th>\n",
       "      <td>Chennai</td>\n",
       "      <td>13.080172</td>\n",
       "      <td>80.283833</td>\n",
       "      <td>3</td>\n",
       "    </tr>\n",
       "    <tr>\n",
       "      <th>2</th>\n",
       "      <td>Jaipur</td>\n",
       "      <td>26.916194</td>\n",
       "      <td>75.820349</td>\n",
       "      <td>5</td>\n",
       "    </tr>\n",
       "    <tr>\n",
       "      <th>3</th>\n",
       "      <td>Mumbai</td>\n",
       "      <td>18.938771</td>\n",
       "      <td>72.835335</td>\n",
       "      <td>1</td>\n",
       "    </tr>\n",
       "    <tr>\n",
       "      <th>4</th>\n",
       "      <td>Delhi</td>\n",
       "      <td>28.651718</td>\n",
       "      <td>77.221939</td>\n",
       "      <td>4</td>\n",
       "    </tr>\n",
       "  </tbody>\n",
       "</table>\n",
       "</div>"
      ],
      "text/plain": [
       "      city   latitude  longitude  venue_rank\n",
       "0  Lucknow  26.838100  80.934600           2\n",
       "1  Chennai  13.080172  80.283833           3\n",
       "2   Jaipur  26.916194  75.820349           5\n",
       "3   Mumbai  18.938771  72.835335           1\n",
       "4    Delhi  28.651718  77.221939           4"
      ]
     },
     "execution_count": 91,
     "metadata": {},
     "output_type": "execute_result"
    }
   ],
   "source": [
    "top_5.head()"
   ]
  },
  {
   "cell_type": "markdown",
   "metadata": {},
   "source": [
    "Let's now find categories we have for each venues. We will also rank cities based on different categories in total"
   ]
  },
  {
   "cell_type": "code",
   "execution_count": 92,
   "metadata": {},
   "outputs": [
    {
     "name": "stdout",
     "output_type": "stream",
     "text": [
      "There are 197 uniques categories.\n"
     ]
    }
   ],
   "source": [
    "print('There are {} uniques categories.'.format(len(all_city_venues['venue category'].unique())))"
   ]
  },
  {
   "cell_type": "markdown",
   "metadata": {},
   "source": [
    "### Let's analyze each city"
   ]
  },
  {
   "cell_type": "code",
   "execution_count": 93,
   "metadata": {},
   "outputs": [
    {
     "data": {
      "text/html": [
       "<div>\n",
       "<style>\n",
       "    .dataframe thead tr:only-child th {\n",
       "        text-align: right;\n",
       "    }\n",
       "\n",
       "    .dataframe thead th {\n",
       "        text-align: left;\n",
       "    }\n",
       "\n",
       "    .dataframe tbody tr th {\n",
       "        vertical-align: top;\n",
       "    }\n",
       "</style>\n",
       "<table border=\"1\" class=\"dataframe\">\n",
       "  <thead>\n",
       "    <tr style=\"text-align: right;\">\n",
       "      <th></th>\n",
       "      <th>city</th>\n",
       "      <th>Accessories Store</th>\n",
       "      <th>Advertising Agency</th>\n",
       "      <th>Afghan Restaurant</th>\n",
       "      <th>American Restaurant</th>\n",
       "      <th>Antique Shop</th>\n",
       "      <th>Arcade</th>\n",
       "      <th>Art Gallery</th>\n",
       "      <th>Art Museum</th>\n",
       "      <th>Arts &amp; Crafts Store</th>\n",
       "      <th>...</th>\n",
       "      <th>Tourist Information Center</th>\n",
       "      <th>Train Station</th>\n",
       "      <th>Travel Agency</th>\n",
       "      <th>University</th>\n",
       "      <th>Vegetarian / Vegan Restaurant</th>\n",
       "      <th>Video Store</th>\n",
       "      <th>Volleyball Court</th>\n",
       "      <th>Watch Shop</th>\n",
       "      <th>Women's Store</th>\n",
       "      <th>Zoo</th>\n",
       "    </tr>\n",
       "  </thead>\n",
       "  <tbody>\n",
       "    <tr>\n",
       "      <th>0</th>\n",
       "      <td>(Lucknow,)</td>\n",
       "      <td>0</td>\n",
       "      <td>0</td>\n",
       "      <td>0</td>\n",
       "      <td>0</td>\n",
       "      <td>0</td>\n",
       "      <td>0</td>\n",
       "      <td>0</td>\n",
       "      <td>0</td>\n",
       "      <td>0</td>\n",
       "      <td>...</td>\n",
       "      <td>0</td>\n",
       "      <td>0</td>\n",
       "      <td>0</td>\n",
       "      <td>0</td>\n",
       "      <td>0</td>\n",
       "      <td>0</td>\n",
       "      <td>0</td>\n",
       "      <td>0</td>\n",
       "      <td>0</td>\n",
       "      <td>0</td>\n",
       "    </tr>\n",
       "    <tr>\n",
       "      <th>1</th>\n",
       "      <td>(Lucknow,)</td>\n",
       "      <td>0</td>\n",
       "      <td>0</td>\n",
       "      <td>0</td>\n",
       "      <td>0</td>\n",
       "      <td>0</td>\n",
       "      <td>0</td>\n",
       "      <td>0</td>\n",
       "      <td>0</td>\n",
       "      <td>0</td>\n",
       "      <td>...</td>\n",
       "      <td>0</td>\n",
       "      <td>0</td>\n",
       "      <td>0</td>\n",
       "      <td>0</td>\n",
       "      <td>0</td>\n",
       "      <td>0</td>\n",
       "      <td>0</td>\n",
       "      <td>0</td>\n",
       "      <td>0</td>\n",
       "      <td>0</td>\n",
       "    </tr>\n",
       "    <tr>\n",
       "      <th>2</th>\n",
       "      <td>(Lucknow,)</td>\n",
       "      <td>0</td>\n",
       "      <td>0</td>\n",
       "      <td>0</td>\n",
       "      <td>0</td>\n",
       "      <td>0</td>\n",
       "      <td>0</td>\n",
       "      <td>0</td>\n",
       "      <td>0</td>\n",
       "      <td>0</td>\n",
       "      <td>...</td>\n",
       "      <td>0</td>\n",
       "      <td>0</td>\n",
       "      <td>0</td>\n",
       "      <td>0</td>\n",
       "      <td>0</td>\n",
       "      <td>0</td>\n",
       "      <td>0</td>\n",
       "      <td>0</td>\n",
       "      <td>0</td>\n",
       "      <td>0</td>\n",
       "    </tr>\n",
       "    <tr>\n",
       "      <th>3</th>\n",
       "      <td>(Lucknow,)</td>\n",
       "      <td>0</td>\n",
       "      <td>0</td>\n",
       "      <td>0</td>\n",
       "      <td>0</td>\n",
       "      <td>0</td>\n",
       "      <td>0</td>\n",
       "      <td>0</td>\n",
       "      <td>0</td>\n",
       "      <td>0</td>\n",
       "      <td>...</td>\n",
       "      <td>0</td>\n",
       "      <td>0</td>\n",
       "      <td>0</td>\n",
       "      <td>0</td>\n",
       "      <td>0</td>\n",
       "      <td>0</td>\n",
       "      <td>0</td>\n",
       "      <td>0</td>\n",
       "      <td>0</td>\n",
       "      <td>0</td>\n",
       "    </tr>\n",
       "    <tr>\n",
       "      <th>4</th>\n",
       "      <td>(Lucknow,)</td>\n",
       "      <td>0</td>\n",
       "      <td>0</td>\n",
       "      <td>0</td>\n",
       "      <td>0</td>\n",
       "      <td>0</td>\n",
       "      <td>0</td>\n",
       "      <td>0</td>\n",
       "      <td>0</td>\n",
       "      <td>0</td>\n",
       "      <td>...</td>\n",
       "      <td>0</td>\n",
       "      <td>0</td>\n",
       "      <td>0</td>\n",
       "      <td>0</td>\n",
       "      <td>0</td>\n",
       "      <td>0</td>\n",
       "      <td>0</td>\n",
       "      <td>0</td>\n",
       "      <td>0</td>\n",
       "      <td>0</td>\n",
       "    </tr>\n",
       "  </tbody>\n",
       "</table>\n",
       "<p>5 rows × 198 columns</p>\n",
       "</div>"
      ],
      "text/plain": [
       "         city  Accessories Store  Advertising Agency  Afghan Restaurant  \\\n",
       "0  (Lucknow,)                  0                   0                  0   \n",
       "1  (Lucknow,)                  0                   0                  0   \n",
       "2  (Lucknow,)                  0                   0                  0   \n",
       "3  (Lucknow,)                  0                   0                  0   \n",
       "4  (Lucknow,)                  0                   0                  0   \n",
       "\n",
       "   American Restaurant  Antique Shop  Arcade  Art Gallery  Art Museum  \\\n",
       "0                    0             0       0            0           0   \n",
       "1                    0             0       0            0           0   \n",
       "2                    0             0       0            0           0   \n",
       "3                    0             0       0            0           0   \n",
       "4                    0             0       0            0           0   \n",
       "\n",
       "   Arts & Crafts Store ...   Tourist Information Center  Train Station  \\\n",
       "0                    0 ...                            0              0   \n",
       "1                    0 ...                            0              0   \n",
       "2                    0 ...                            0              0   \n",
       "3                    0 ...                            0              0   \n",
       "4                    0 ...                            0              0   \n",
       "\n",
       "   Travel Agency  University  Vegetarian / Vegan Restaurant  Video Store  \\\n",
       "0              0           0                              0            0   \n",
       "1              0           0                              0            0   \n",
       "2              0           0                              0            0   \n",
       "3              0           0                              0            0   \n",
       "4              0           0                              0            0   \n",
       "\n",
       "   Volleyball Court  Watch Shop  Women's Store  Zoo  \n",
       "0                 0           0              0    0  \n",
       "1                 0           0              0    0  \n",
       "2                 0           0              0    0  \n",
       "3                 0           0              0    0  \n",
       "4                 0           0              0    0  \n",
       "\n",
       "[5 rows x 198 columns]"
      ]
     },
     "execution_count": 93,
     "metadata": {},
     "output_type": "execute_result"
    }
   ],
   "source": [
    "# one hot encoding\n",
    "city_onehot = pd.get_dummies(all_city_venues[['venue category']], prefix=\"\", prefix_sep=\"\")\n",
    "\n",
    "# add neighborhood column back to dataframe\n",
    "city_onehot['city'] = all_city_venues['city'] \n",
    "\n",
    "# move neighborhood column to the first column\n",
    "fixed_columns = [city_onehot.columns[-1]] + list(city_onehot.columns[:-1])\n",
    "city_onehot = city_onehot[fixed_columns]\n",
    "\n",
    "city_onehot.head()"
   ]
  },
  {
   "cell_type": "code",
   "execution_count": 94,
   "metadata": {},
   "outputs": [
    {
     "data": {
      "text/plain": [
       "(13839, 198)"
      ]
     },
     "execution_count": 94,
     "metadata": {},
     "output_type": "execute_result"
    }
   ],
   "source": [
    "\n",
    "city_onehot.shape"
   ]
  },
  {
   "cell_type": "code",
   "execution_count": 95,
   "metadata": {
    "scrolled": true
   },
   "outputs": [
    {
     "data": {
      "text/html": [
       "<div>\n",
       "<style>\n",
       "    .dataframe thead tr:only-child th {\n",
       "        text-align: right;\n",
       "    }\n",
       "\n",
       "    .dataframe thead th {\n",
       "        text-align: left;\n",
       "    }\n",
       "\n",
       "    .dataframe tbody tr th {\n",
       "        vertical-align: top;\n",
       "    }\n",
       "</style>\n",
       "<table border=\"1\" class=\"dataframe\">\n",
       "  <thead>\n",
       "    <tr style=\"text-align: right;\">\n",
       "      <th></th>\n",
       "      <th>city</th>\n",
       "      <th>Accessories Store</th>\n",
       "      <th>Advertising Agency</th>\n",
       "      <th>Afghan Restaurant</th>\n",
       "      <th>American Restaurant</th>\n",
       "      <th>Antique Shop</th>\n",
       "      <th>Arcade</th>\n",
       "      <th>Art Gallery</th>\n",
       "      <th>Art Museum</th>\n",
       "      <th>Arts &amp; Crafts Store</th>\n",
       "      <th>...</th>\n",
       "      <th>Tourist Information Center</th>\n",
       "      <th>Train Station</th>\n",
       "      <th>Travel Agency</th>\n",
       "      <th>University</th>\n",
       "      <th>Vegetarian / Vegan Restaurant</th>\n",
       "      <th>Video Store</th>\n",
       "      <th>Volleyball Court</th>\n",
       "      <th>Watch Shop</th>\n",
       "      <th>Women's Store</th>\n",
       "      <th>Zoo</th>\n",
       "    </tr>\n",
       "  </thead>\n",
       "  <tbody>\n",
       "    <tr>\n",
       "      <th>0</th>\n",
       "      <td>(Chennai,)</td>\n",
       "      <td>0.000000</td>\n",
       "      <td>0.000000</td>\n",
       "      <td>0.000000</td>\n",
       "      <td>0.000000</td>\n",
       "      <td>0.000316</td>\n",
       "      <td>0.000000</td>\n",
       "      <td>0.000000</td>\n",
       "      <td>0.000000</td>\n",
       "      <td>0.000316</td>\n",
       "      <td>...</td>\n",
       "      <td>0.000316</td>\n",
       "      <td>0.001262</td>\n",
       "      <td>0.000316</td>\n",
       "      <td>0.000316</td>\n",
       "      <td>0.000000</td>\n",
       "      <td>0.000000</td>\n",
       "      <td>0.000316</td>\n",
       "      <td>0.000000</td>\n",
       "      <td>0.000316</td>\n",
       "      <td>0.000000</td>\n",
       "    </tr>\n",
       "    <tr>\n",
       "      <th>1</th>\n",
       "      <td>(Delhi,)</td>\n",
       "      <td>0.000000</td>\n",
       "      <td>0.000000</td>\n",
       "      <td>0.000000</td>\n",
       "      <td>0.000000</td>\n",
       "      <td>0.000621</td>\n",
       "      <td>0.000000</td>\n",
       "      <td>0.000000</td>\n",
       "      <td>0.000000</td>\n",
       "      <td>0.000621</td>\n",
       "      <td>...</td>\n",
       "      <td>0.000000</td>\n",
       "      <td>0.000000</td>\n",
       "      <td>0.000000</td>\n",
       "      <td>0.000000</td>\n",
       "      <td>0.000621</td>\n",
       "      <td>0.000000</td>\n",
       "      <td>0.000000</td>\n",
       "      <td>0.000000</td>\n",
       "      <td>0.001862</td>\n",
       "      <td>0.000000</td>\n",
       "    </tr>\n",
       "    <tr>\n",
       "      <th>2</th>\n",
       "      <td>(Jaipur,)</td>\n",
       "      <td>0.000000</td>\n",
       "      <td>0.000000</td>\n",
       "      <td>0.000000</td>\n",
       "      <td>0.000000</td>\n",
       "      <td>0.000000</td>\n",
       "      <td>0.000000</td>\n",
       "      <td>0.000000</td>\n",
       "      <td>0.002667</td>\n",
       "      <td>0.005333</td>\n",
       "      <td>...</td>\n",
       "      <td>0.000000</td>\n",
       "      <td>0.000000</td>\n",
       "      <td>0.000000</td>\n",
       "      <td>0.000000</td>\n",
       "      <td>0.000000</td>\n",
       "      <td>0.000000</td>\n",
       "      <td>0.000000</td>\n",
       "      <td>0.000000</td>\n",
       "      <td>0.004000</td>\n",
       "      <td>0.001333</td>\n",
       "    </tr>\n",
       "    <tr>\n",
       "      <th>3</th>\n",
       "      <td>(Lucknow,)</td>\n",
       "      <td>0.000272</td>\n",
       "      <td>0.000000</td>\n",
       "      <td>0.000272</td>\n",
       "      <td>0.000272</td>\n",
       "      <td>0.000000</td>\n",
       "      <td>0.000272</td>\n",
       "      <td>0.000000</td>\n",
       "      <td>0.000000</td>\n",
       "      <td>0.000000</td>\n",
       "      <td>...</td>\n",
       "      <td>0.000000</td>\n",
       "      <td>0.000544</td>\n",
       "      <td>0.000000</td>\n",
       "      <td>0.000000</td>\n",
       "      <td>0.000000</td>\n",
       "      <td>0.000000</td>\n",
       "      <td>0.000000</td>\n",
       "      <td>0.000000</td>\n",
       "      <td>0.000272</td>\n",
       "      <td>0.000000</td>\n",
       "    </tr>\n",
       "    <tr>\n",
       "      <th>4</th>\n",
       "      <td>(Mumbai,)</td>\n",
       "      <td>0.000216</td>\n",
       "      <td>0.000432</td>\n",
       "      <td>0.000000</td>\n",
       "      <td>0.000000</td>\n",
       "      <td>0.000216</td>\n",
       "      <td>0.000000</td>\n",
       "      <td>0.000216</td>\n",
       "      <td>0.000000</td>\n",
       "      <td>0.000216</td>\n",
       "      <td>...</td>\n",
       "      <td>0.000000</td>\n",
       "      <td>0.000432</td>\n",
       "      <td>0.000000</td>\n",
       "      <td>0.000000</td>\n",
       "      <td>0.000216</td>\n",
       "      <td>0.000216</td>\n",
       "      <td>0.000000</td>\n",
       "      <td>0.000216</td>\n",
       "      <td>0.000000</td>\n",
       "      <td>0.000000</td>\n",
       "    </tr>\n",
       "  </tbody>\n",
       "</table>\n",
       "<p>5 rows × 198 columns</p>\n",
       "</div>"
      ],
      "text/plain": [
       "         city  Accessories Store  Advertising Agency  Afghan Restaurant  \\\n",
       "0  (Chennai,)           0.000000            0.000000           0.000000   \n",
       "1    (Delhi,)           0.000000            0.000000           0.000000   \n",
       "2   (Jaipur,)           0.000000            0.000000           0.000000   \n",
       "3  (Lucknow,)           0.000272            0.000000           0.000272   \n",
       "4   (Mumbai,)           0.000216            0.000432           0.000000   \n",
       "\n",
       "   American Restaurant  Antique Shop    Arcade  Art Gallery  Art Museum  \\\n",
       "0             0.000000      0.000316  0.000000     0.000000    0.000000   \n",
       "1             0.000000      0.000621  0.000000     0.000000    0.000000   \n",
       "2             0.000000      0.000000  0.000000     0.000000    0.002667   \n",
       "3             0.000272      0.000000  0.000272     0.000000    0.000000   \n",
       "4             0.000000      0.000216  0.000000     0.000216    0.000000   \n",
       "\n",
       "   Arts & Crafts Store    ...     Tourist Information Center  Train Station  \\\n",
       "0             0.000316    ...                       0.000316       0.001262   \n",
       "1             0.000621    ...                       0.000000       0.000000   \n",
       "2             0.005333    ...                       0.000000       0.000000   \n",
       "3             0.000000    ...                       0.000000       0.000544   \n",
       "4             0.000216    ...                       0.000000       0.000432   \n",
       "\n",
       "   Travel Agency  University  Vegetarian / Vegan Restaurant  Video Store  \\\n",
       "0       0.000316    0.000316                       0.000000     0.000000   \n",
       "1       0.000000    0.000000                       0.000621     0.000000   \n",
       "2       0.000000    0.000000                       0.000000     0.000000   \n",
       "3       0.000000    0.000000                       0.000000     0.000000   \n",
       "4       0.000000    0.000000                       0.000216     0.000216   \n",
       "\n",
       "   Volleyball Court  Watch Shop  Women's Store       Zoo  \n",
       "0          0.000316    0.000000       0.000316  0.000000  \n",
       "1          0.000000    0.000000       0.001862  0.000000  \n",
       "2          0.000000    0.000000       0.004000  0.001333  \n",
       "3          0.000000    0.000000       0.000272  0.000000  \n",
       "4          0.000000    0.000216       0.000000  0.000000  \n",
       "\n",
       "[5 rows x 198 columns]"
      ]
     },
     "execution_count": 95,
     "metadata": {},
     "output_type": "execute_result"
    }
   ],
   "source": [
    "city_grouped = city_onehot.groupby('city').mean().reset_index()\n",
    "city_grouped"
   ]
  },
  {
   "cell_type": "code",
   "execution_count": 96,
   "metadata": {},
   "outputs": [
    {
     "data": {
      "text/plain": [
       "0    85\n",
       "1    56\n",
       "2    55\n",
       "3    85\n",
       "4    87\n",
       "dtype: int64"
      ]
     },
     "execution_count": 96,
     "metadata": {},
     "output_type": "execute_result"
    }
   ],
   "source": [
    "city_grouped.astype(bool).sum(axis=1)"
   ]
  },
  {
   "cell_type": "markdown",
   "metadata": {},
   "source": [
    "Based on the grouping, we can assign rank to cities"
   ]
  },
  {
   "cell_type": "code",
   "execution_count": 97,
   "metadata": {
    "scrolled": true
   },
   "outputs": [
    {
     "data": {
      "text/html": [
       "<div>\n",
       "<style>\n",
       "    .dataframe thead tr:only-child th {\n",
       "        text-align: right;\n",
       "    }\n",
       "\n",
       "    .dataframe thead th {\n",
       "        text-align: left;\n",
       "    }\n",
       "\n",
       "    .dataframe tbody tr th {\n",
       "        vertical-align: top;\n",
       "    }\n",
       "</style>\n",
       "<table border=\"1\" class=\"dataframe\">\n",
       "  <thead>\n",
       "    <tr style=\"text-align: right;\">\n",
       "      <th></th>\n",
       "      <th>city</th>\n",
       "      <th>latitude</th>\n",
       "      <th>longitude</th>\n",
       "      <th>venue_rank</th>\n",
       "      <th>place_rank</th>\n",
       "    </tr>\n",
       "  </thead>\n",
       "  <tbody>\n",
       "    <tr>\n",
       "      <th>0</th>\n",
       "      <td>Lucknow</td>\n",
       "      <td>26.838100</td>\n",
       "      <td>80.934600</td>\n",
       "      <td>2</td>\n",
       "      <td>85</td>\n",
       "    </tr>\n",
       "    <tr>\n",
       "      <th>1</th>\n",
       "      <td>Chennai</td>\n",
       "      <td>13.080172</td>\n",
       "      <td>80.283833</td>\n",
       "      <td>3</td>\n",
       "      <td>56</td>\n",
       "    </tr>\n",
       "    <tr>\n",
       "      <th>2</th>\n",
       "      <td>Jaipur</td>\n",
       "      <td>26.916194</td>\n",
       "      <td>75.820349</td>\n",
       "      <td>5</td>\n",
       "      <td>55</td>\n",
       "    </tr>\n",
       "    <tr>\n",
       "      <th>3</th>\n",
       "      <td>Mumbai</td>\n",
       "      <td>18.938771</td>\n",
       "      <td>72.835335</td>\n",
       "      <td>1</td>\n",
       "      <td>85</td>\n",
       "    </tr>\n",
       "    <tr>\n",
       "      <th>4</th>\n",
       "      <td>Delhi</td>\n",
       "      <td>28.651718</td>\n",
       "      <td>77.221939</td>\n",
       "      <td>4</td>\n",
       "      <td>87</td>\n",
       "    </tr>\n",
       "  </tbody>\n",
       "</table>\n",
       "</div>"
      ],
      "text/plain": [
       "      city   latitude  longitude  venue_rank  place_rank\n",
       "0  Lucknow  26.838100  80.934600           2          85\n",
       "1  Chennai  13.080172  80.283833           3          56\n",
       "2   Jaipur  26.916194  75.820349           5          55\n",
       "3   Mumbai  18.938771  72.835335           1          85\n",
       "4    Delhi  28.651718  77.221939           4          87"
      ]
     },
     "execution_count": 97,
     "metadata": {},
     "output_type": "execute_result"
    }
   ],
   "source": [
    "top_5['place_rank']=city_grouped.astype(bool).sum(axis=1)\n",
    "top_5.head()"
   ]
  },
  {
   "cell_type": "markdown",
   "metadata": {},
   "source": [
    "Let's review yet another parameter - cleanliness. We can first obtain data"
   ]
  },
  {
   "cell_type": "code",
   "execution_count": 98,
   "metadata": {},
   "outputs": [],
   "source": [
    "cleaniness_data = pd.read_html('http://indpaedia.com/ind/index.php/Cleanliness_ranks_of_Indian_cities,_districts:_2017#Ranks_1-434:_The_complete_list')"
   ]
  },
  {
   "cell_type": "markdown",
   "metadata": {},
   "source": [
    "Based on review of data we can extract ranking data as below"
   ]
  },
  {
   "cell_type": "code",
   "execution_count": 99,
   "metadata": {},
   "outputs": [],
   "source": [
    "clean_rankings = cleaniness_data[2]"
   ]
  },
  {
   "cell_type": "code",
   "execution_count": 100,
   "metadata": {
    "scrolled": false
   },
   "outputs": [
    {
     "data": {
      "text/html": [
       "<div>\n",
       "<style>\n",
       "    .dataframe thead tr:only-child th {\n",
       "        text-align: right;\n",
       "    }\n",
       "\n",
       "    .dataframe thead th {\n",
       "        text-align: left;\n",
       "    }\n",
       "\n",
       "    .dataframe tbody tr th {\n",
       "        vertical-align: top;\n",
       "    }\n",
       "</style>\n",
       "<table border=\"1\" class=\"dataframe\">\n",
       "  <thead>\n",
       "    <tr style=\"text-align: right;\">\n",
       "      <th></th>\n",
       "      <th>0</th>\n",
       "      <th>1</th>\n",
       "      <th>2</th>\n",
       "    </tr>\n",
       "  </thead>\n",
       "  <tbody>\n",
       "    <tr>\n",
       "      <th>0</th>\n",
       "      <td>Ranking</td>\n",
       "      <td>City</td>\n",
       "      <td>State</td>\n",
       "    </tr>\n",
       "    <tr>\n",
       "      <th>1</th>\n",
       "      <td>1</td>\n",
       "      <td>Indore</td>\n",
       "      <td>Madhya Pradesh</td>\n",
       "    </tr>\n",
       "    <tr>\n",
       "      <th>2</th>\n",
       "      <td>2</td>\n",
       "      <td>Bhopal</td>\n",
       "      <td>Madhya Pradesh</td>\n",
       "    </tr>\n",
       "    <tr>\n",
       "      <th>3</th>\n",
       "      <td>3</td>\n",
       "      <td>Visakhapatnam (Vizag)</td>\n",
       "      <td>Andhra Pradesh</td>\n",
       "    </tr>\n",
       "    <tr>\n",
       "      <th>4</th>\n",
       "      <td>4</td>\n",
       "      <td>Surat</td>\n",
       "      <td>Gujarat</td>\n",
       "    </tr>\n",
       "  </tbody>\n",
       "</table>\n",
       "</div>"
      ],
      "text/plain": [
       "         0                      1               2\n",
       "0  Ranking                   City           State\n",
       "1        1                 Indore  Madhya Pradesh\n",
       "2        2                 Bhopal  Madhya Pradesh\n",
       "3        3  Visakhapatnam (Vizag)  Andhra Pradesh\n",
       "4        4                  Surat         Gujarat"
      ]
     },
     "execution_count": 100,
     "metadata": {},
     "output_type": "execute_result"
    }
   ],
   "source": [
    "clean_rankings.head()"
   ]
  },
  {
   "cell_type": "markdown",
   "metadata": {},
   "source": [
    "Let's clean the data"
   ]
  },
  {
   "cell_type": "code",
   "execution_count": 101,
   "metadata": {},
   "outputs": [],
   "source": [
    "clean_rankings= clean_rankings.drop(clean_rankings.index[0])\n",
    "clean_rankings= clean_rankings.rename(columns={0:'clean_rank',1:'city',2:'state'})"
   ]
  },
  {
   "cell_type": "markdown",
   "metadata": {},
   "source": [
    "We can now merge ranking in top_5 table"
   ]
  },
  {
   "cell_type": "code",
   "execution_count": 102,
   "metadata": {},
   "outputs": [],
   "source": [
    "top_5= pd.merge(top_5,clean_rankings, on='city',how='left')"
   ]
  },
  {
   "cell_type": "code",
   "execution_count": 103,
   "metadata": {},
   "outputs": [
    {
     "data": {
      "text/html": [
       "<div>\n",
       "<style>\n",
       "    .dataframe thead tr:only-child th {\n",
       "        text-align: right;\n",
       "    }\n",
       "\n",
       "    .dataframe thead th {\n",
       "        text-align: left;\n",
       "    }\n",
       "\n",
       "    .dataframe tbody tr th {\n",
       "        vertical-align: top;\n",
       "    }\n",
       "</style>\n",
       "<table border=\"1\" class=\"dataframe\">\n",
       "  <thead>\n",
       "    <tr style=\"text-align: right;\">\n",
       "      <th></th>\n",
       "      <th>city</th>\n",
       "      <th>latitude</th>\n",
       "      <th>longitude</th>\n",
       "      <th>venue_rank</th>\n",
       "      <th>place_rank</th>\n",
       "      <th>clean_rank</th>\n",
       "      <th>state</th>\n",
       "    </tr>\n",
       "  </thead>\n",
       "  <tbody>\n",
       "    <tr>\n",
       "      <th>0</th>\n",
       "      <td>Lucknow</td>\n",
       "      <td>26.838100</td>\n",
       "      <td>80.934600</td>\n",
       "      <td>2</td>\n",
       "      <td>85</td>\n",
       "      <td>269</td>\n",
       "      <td>Uttar Pradesh</td>\n",
       "    </tr>\n",
       "    <tr>\n",
       "      <th>1</th>\n",
       "      <td>Chennai</td>\n",
       "      <td>13.080172</td>\n",
       "      <td>80.283833</td>\n",
       "      <td>3</td>\n",
       "      <td>56</td>\n",
       "      <td>NaN</td>\n",
       "      <td>NaN</td>\n",
       "    </tr>\n",
       "    <tr>\n",
       "      <th>2</th>\n",
       "      <td>Jaipur</td>\n",
       "      <td>26.916194</td>\n",
       "      <td>75.820349</td>\n",
       "      <td>5</td>\n",
       "      <td>55</td>\n",
       "      <td>215</td>\n",
       "      <td>Rajasthan</td>\n",
       "    </tr>\n",
       "    <tr>\n",
       "      <th>3</th>\n",
       "      <td>Mumbai</td>\n",
       "      <td>18.938771</td>\n",
       "      <td>72.835335</td>\n",
       "      <td>1</td>\n",
       "      <td>85</td>\n",
       "      <td>NaN</td>\n",
       "      <td>NaN</td>\n",
       "    </tr>\n",
       "    <tr>\n",
       "      <th>4</th>\n",
       "      <td>Delhi</td>\n",
       "      <td>28.651718</td>\n",
       "      <td>77.221939</td>\n",
       "      <td>4</td>\n",
       "      <td>87</td>\n",
       "      <td>NaN</td>\n",
       "      <td>NaN</td>\n",
       "    </tr>\n",
       "  </tbody>\n",
       "</table>\n",
       "</div>"
      ],
      "text/plain": [
       "      city   latitude  longitude  venue_rank  place_rank clean_rank  \\\n",
       "0  Lucknow  26.838100  80.934600           2          85        269   \n",
       "1  Chennai  13.080172  80.283833           3          56        NaN   \n",
       "2   Jaipur  26.916194  75.820349           5          55        215   \n",
       "3   Mumbai  18.938771  72.835335           1          85        NaN   \n",
       "4    Delhi  28.651718  77.221939           4          87        NaN   \n",
       "\n",
       "           state  \n",
       "0  Uttar Pradesh  \n",
       "1            NaN  \n",
       "2      Rajasthan  \n",
       "3            NaN  \n",
       "4            NaN  "
      ]
     },
     "execution_count": 103,
     "metadata": {},
     "output_type": "execute_result"
    }
   ],
   "source": [
    "top_5.head()"
   ]
  },
  {
   "cell_type": "markdown",
   "metadata": {},
   "source": [
    "We see that 3 cities are not in the list. Let's replace NaN's by a higher number and drop state columns"
   ]
  },
  {
   "cell_type": "code",
   "execution_count": 104,
   "metadata": {},
   "outputs": [],
   "source": [
    "top_5.drop(['state'], inplace=True, axis=1)\n"
   ]
  },
  {
   "cell_type": "code",
   "execution_count": 105,
   "metadata": {},
   "outputs": [],
   "source": [
    "top_5['clean_rank'] = top_5['clean_rank'].fillna(500)"
   ]
  },
  {
   "cell_type": "code",
   "execution_count": 106,
   "metadata": {
    "scrolled": true
   },
   "outputs": [
    {
     "data": {
      "text/html": [
       "<div>\n",
       "<style>\n",
       "    .dataframe thead tr:only-child th {\n",
       "        text-align: right;\n",
       "    }\n",
       "\n",
       "    .dataframe thead th {\n",
       "        text-align: left;\n",
       "    }\n",
       "\n",
       "    .dataframe tbody tr th {\n",
       "        vertical-align: top;\n",
       "    }\n",
       "</style>\n",
       "<table border=\"1\" class=\"dataframe\">\n",
       "  <thead>\n",
       "    <tr style=\"text-align: right;\">\n",
       "      <th></th>\n",
       "      <th>city</th>\n",
       "      <th>latitude</th>\n",
       "      <th>longitude</th>\n",
       "      <th>venue_rank</th>\n",
       "      <th>place_rank</th>\n",
       "      <th>clean_rank</th>\n",
       "    </tr>\n",
       "  </thead>\n",
       "  <tbody>\n",
       "    <tr>\n",
       "      <th>0</th>\n",
       "      <td>Lucknow</td>\n",
       "      <td>26.838100</td>\n",
       "      <td>80.934600</td>\n",
       "      <td>2</td>\n",
       "      <td>85</td>\n",
       "      <td>269</td>\n",
       "    </tr>\n",
       "    <tr>\n",
       "      <th>1</th>\n",
       "      <td>Chennai</td>\n",
       "      <td>13.080172</td>\n",
       "      <td>80.283833</td>\n",
       "      <td>3</td>\n",
       "      <td>56</td>\n",
       "      <td>500</td>\n",
       "    </tr>\n",
       "    <tr>\n",
       "      <th>2</th>\n",
       "      <td>Jaipur</td>\n",
       "      <td>26.916194</td>\n",
       "      <td>75.820349</td>\n",
       "      <td>5</td>\n",
       "      <td>55</td>\n",
       "      <td>215</td>\n",
       "    </tr>\n",
       "    <tr>\n",
       "      <th>3</th>\n",
       "      <td>Mumbai</td>\n",
       "      <td>18.938771</td>\n",
       "      <td>72.835335</td>\n",
       "      <td>1</td>\n",
       "      <td>85</td>\n",
       "      <td>500</td>\n",
       "    </tr>\n",
       "    <tr>\n",
       "      <th>4</th>\n",
       "      <td>Delhi</td>\n",
       "      <td>28.651718</td>\n",
       "      <td>77.221939</td>\n",
       "      <td>4</td>\n",
       "      <td>87</td>\n",
       "      <td>500</td>\n",
       "    </tr>\n",
       "  </tbody>\n",
       "</table>\n",
       "</div>"
      ],
      "text/plain": [
       "      city   latitude  longitude  venue_rank  place_rank clean_rank\n",
       "0  Lucknow  26.838100  80.934600           2          85        269\n",
       "1  Chennai  13.080172  80.283833           3          56        500\n",
       "2   Jaipur  26.916194  75.820349           5          55        215\n",
       "3   Mumbai  18.938771  72.835335           1          85        500\n",
       "4    Delhi  28.651718  77.221939           4          87        500"
      ]
     },
     "execution_count": 106,
     "metadata": {},
     "output_type": "execute_result"
    }
   ],
   "source": [
    "top_5.head()"
   ]
  },
  {
   "cell_type": "markdown",
   "metadata": {},
   "source": [
    "Let's get the last param for ranking - price index"
   ]
  },
  {
   "cell_type": "code",
   "execution_count": 107,
   "metadata": {},
   "outputs": [],
   "source": [
    "col = pd.read_html('https://www.expatistan.com/cost-of-living/country/india')\n",
    "col[1]=col[1].rename(columns={'City':'city'})\n"
   ]
  },
  {
   "cell_type": "markdown",
   "metadata": {},
   "source": [
    "Since Madras is used in placed of Chennai , we need to change value"
   ]
  },
  {
   "cell_type": "code",
   "execution_count": 108,
   "metadata": {},
   "outputs": [],
   "source": [
    "col[1].replace(\n",
    "    to_replace=['Madras'],\n",
    "    value='Chennai',\n",
    "    inplace=True\n",
    ")"
   ]
  },
  {
   "cell_type": "markdown",
   "metadata": {},
   "source": [
    "Let's create a new dataframe by merging cleanliness data with previous dataframe"
   ]
  },
  {
   "cell_type": "code",
   "execution_count": 109,
   "metadata": {},
   "outputs": [],
   "source": [
    "top_5_col= pd.merge(top_5,col[1], on='city',how='left')"
   ]
  },
  {
   "cell_type": "code",
   "execution_count": 110,
   "metadata": {},
   "outputs": [
    {
     "data": {
      "text/html": [
       "<div>\n",
       "<style>\n",
       "    .dataframe thead tr:only-child th {\n",
       "        text-align: right;\n",
       "    }\n",
       "\n",
       "    .dataframe thead th {\n",
       "        text-align: left;\n",
       "    }\n",
       "\n",
       "    .dataframe tbody tr th {\n",
       "        vertical-align: top;\n",
       "    }\n",
       "</style>\n",
       "<table border=\"1\" class=\"dataframe\">\n",
       "  <thead>\n",
       "    <tr style=\"text-align: right;\">\n",
       "      <th></th>\n",
       "      <th>city</th>\n",
       "      <th>latitude</th>\n",
       "      <th>longitude</th>\n",
       "      <th>venue_rank</th>\n",
       "      <th>place_rank</th>\n",
       "      <th>clean_rank</th>\n",
       "      <th>Ranking</th>\n",
       "      <th>Price Index *</th>\n",
       "    </tr>\n",
       "  </thead>\n",
       "  <tbody>\n",
       "    <tr>\n",
       "      <th>0</th>\n",
       "      <td>Lucknow</td>\n",
       "      <td>26.838100</td>\n",
       "      <td>80.934600</td>\n",
       "      <td>2</td>\n",
       "      <td>85</td>\n",
       "      <td>269</td>\n",
       "      <td>5th</td>\n",
       "      <td>82</td>\n",
       "    </tr>\n",
       "    <tr>\n",
       "      <th>1</th>\n",
       "      <td>Chennai</td>\n",
       "      <td>13.080172</td>\n",
       "      <td>80.283833</td>\n",
       "      <td>3</td>\n",
       "      <td>56</td>\n",
       "      <td>500</td>\n",
       "      <td>21st</td>\n",
       "      <td>66</td>\n",
       "    </tr>\n",
       "    <tr>\n",
       "      <th>2</th>\n",
       "      <td>Jaipur</td>\n",
       "      <td>26.916194</td>\n",
       "      <td>75.820349</td>\n",
       "      <td>5</td>\n",
       "      <td>55</td>\n",
       "      <td>215</td>\n",
       "      <td>17th</td>\n",
       "      <td>69</td>\n",
       "    </tr>\n",
       "    <tr>\n",
       "      <th>3</th>\n",
       "      <td>Mumbai</td>\n",
       "      <td>18.938771</td>\n",
       "      <td>72.835335</td>\n",
       "      <td>1</td>\n",
       "      <td>85</td>\n",
       "      <td>500</td>\n",
       "      <td>2nd</td>\n",
       "      <td>95</td>\n",
       "    </tr>\n",
       "    <tr>\n",
       "      <th>4</th>\n",
       "      <td>Delhi</td>\n",
       "      <td>28.651718</td>\n",
       "      <td>77.221939</td>\n",
       "      <td>4</td>\n",
       "      <td>87</td>\n",
       "      <td>500</td>\n",
       "      <td>4th</td>\n",
       "      <td>84</td>\n",
       "    </tr>\n",
       "  </tbody>\n",
       "</table>\n",
       "</div>"
      ],
      "text/plain": [
       "      city   latitude  longitude  venue_rank  place_rank clean_rank Ranking  \\\n",
       "0  Lucknow  26.838100  80.934600           2          85        269     5th   \n",
       "1  Chennai  13.080172  80.283833           3          56        500    21st   \n",
       "2   Jaipur  26.916194  75.820349           5          55        215    17th   \n",
       "3   Mumbai  18.938771  72.835335           1          85        500     2nd   \n",
       "4    Delhi  28.651718  77.221939           4          87        500     4th   \n",
       "\n",
       "   Price Index *  \n",
       "0             82  \n",
       "1             66  \n",
       "2             69  \n",
       "3             95  \n",
       "4             84  "
      ]
     },
     "execution_count": 110,
     "metadata": {},
     "output_type": "execute_result"
    }
   ],
   "source": [
    "top_5_col.head()"
   ]
  },
  {
   "cell_type": "markdown",
   "metadata": {},
   "source": [
    "We do not need latitude, longitude and Ranking column. Let's drop those"
   ]
  },
  {
   "cell_type": "code",
   "execution_count": 111,
   "metadata": {},
   "outputs": [],
   "source": [
    "top_5_col.drop(['Ranking','latitude','longitude'], inplace=True, axis=1)"
   ]
  },
  {
   "cell_type": "code",
   "execution_count": 112,
   "metadata": {
    "scrolled": true
   },
   "outputs": [
    {
     "data": {
      "text/plain": [
       "city             object\n",
       "venue_rank        int64\n",
       "place_rank        int64\n",
       "clean_rank       object\n",
       "Price Index *     int64\n",
       "dtype: object"
      ]
     },
     "execution_count": 112,
     "metadata": {},
     "output_type": "execute_result"
    }
   ],
   "source": [
    "top_5_col.dtypes"
   ]
  },
  {
   "cell_type": "raw",
   "metadata": {},
   "source": [
    "Let's correct some data types and calculate ranks or scores and standarize them"
   ]
  },
  {
   "cell_type": "code",
   "execution_count": 113,
   "metadata": {},
   "outputs": [],
   "source": [
    "top_5_col['place_rank'] = top_5_col['place_rank'].rank(ascending=False) #More the value , better\n",
    "top_5_col['clean_rank']=top_5_col['clean_rank'].astype(np.int64)\n",
    "top_5_col['clean_rank']=top_5_col['clean_rank']/215 #Just standardize\n",
    "top_5_col['Price Index *'] = top_5_col['Price Index *'].rank(ascending=True) #Less the value, better\n",
    "#Venue is already sorted"
   ]
  },
  {
   "cell_type": "code",
   "execution_count": 114,
   "metadata": {
    "scrolled": false
   },
   "outputs": [
    {
     "data": {
      "text/html": [
       "<div>\n",
       "<style>\n",
       "    .dataframe thead tr:only-child th {\n",
       "        text-align: right;\n",
       "    }\n",
       "\n",
       "    .dataframe thead th {\n",
       "        text-align: left;\n",
       "    }\n",
       "\n",
       "    .dataframe tbody tr th {\n",
       "        vertical-align: top;\n",
       "    }\n",
       "</style>\n",
       "<table border=\"1\" class=\"dataframe\">\n",
       "  <thead>\n",
       "    <tr style=\"text-align: right;\">\n",
       "      <th></th>\n",
       "      <th>city</th>\n",
       "      <th>venue_rank</th>\n",
       "      <th>place_rank</th>\n",
       "      <th>clean_rank</th>\n",
       "      <th>Price Index *</th>\n",
       "    </tr>\n",
       "  </thead>\n",
       "  <tbody>\n",
       "    <tr>\n",
       "      <th>0</th>\n",
       "      <td>Lucknow</td>\n",
       "      <td>2</td>\n",
       "      <td>2.5</td>\n",
       "      <td>1.251163</td>\n",
       "      <td>3.0</td>\n",
       "    </tr>\n",
       "    <tr>\n",
       "      <th>1</th>\n",
       "      <td>Chennai</td>\n",
       "      <td>3</td>\n",
       "      <td>4.0</td>\n",
       "      <td>2.325581</td>\n",
       "      <td>1.0</td>\n",
       "    </tr>\n",
       "    <tr>\n",
       "      <th>2</th>\n",
       "      <td>Jaipur</td>\n",
       "      <td>5</td>\n",
       "      <td>5.0</td>\n",
       "      <td>1.000000</td>\n",
       "      <td>2.0</td>\n",
       "    </tr>\n",
       "    <tr>\n",
       "      <th>3</th>\n",
       "      <td>Mumbai</td>\n",
       "      <td>1</td>\n",
       "      <td>2.5</td>\n",
       "      <td>2.325581</td>\n",
       "      <td>5.0</td>\n",
       "    </tr>\n",
       "    <tr>\n",
       "      <th>4</th>\n",
       "      <td>Delhi</td>\n",
       "      <td>4</td>\n",
       "      <td>1.0</td>\n",
       "      <td>2.325581</td>\n",
       "      <td>4.0</td>\n",
       "    </tr>\n",
       "  </tbody>\n",
       "</table>\n",
       "</div>"
      ],
      "text/plain": [
       "      city  venue_rank  place_rank  clean_rank  Price Index *\n",
       "0  Lucknow           2         2.5    1.251163            3.0\n",
       "1  Chennai           3         4.0    2.325581            1.0\n",
       "2   Jaipur           5         5.0    1.000000            2.0\n",
       "3   Mumbai           1         2.5    2.325581            5.0\n",
       "4    Delhi           4         1.0    2.325581            4.0"
      ]
     },
     "execution_count": 114,
     "metadata": {},
     "output_type": "execute_result"
    }
   ],
   "source": [
    "top_5_col"
   ]
  },
  {
   "cell_type": "markdown",
   "metadata": {},
   "source": [
    "Let's plot the cities as per rank in different categories"
   ]
  },
  {
   "cell_type": "markdown",
   "metadata": {},
   "source": [
    "This gives us winners in ind\n",
    "ividual categories\n",
    "\n",
    "Mumabi wins in number of venues,Delhi in categories, Jaipur in cleanliness, Chennai in Price Index\n"
   ]
  },
  {
   "cell_type": "markdown",
   "metadata": {},
   "source": [
    "Lets get mean rank"
   ]
  },
  {
   "cell_type": "code",
   "execution_count": 115,
   "metadata": {},
   "outputs": [],
   "source": [
    "top_5_col['mean']=top_5_col.mean(axis=1)"
   ]
  },
  {
   "cell_type": "code",
   "execution_count": 116,
   "metadata": {},
   "outputs": [
    {
     "data": {
      "text/html": [
       "<div>\n",
       "<style>\n",
       "    .dataframe thead tr:only-child th {\n",
       "        text-align: right;\n",
       "    }\n",
       "\n",
       "    .dataframe thead th {\n",
       "        text-align: left;\n",
       "    }\n",
       "\n",
       "    .dataframe tbody tr th {\n",
       "        vertical-align: top;\n",
       "    }\n",
       "</style>\n",
       "<table border=\"1\" class=\"dataframe\">\n",
       "  <thead>\n",
       "    <tr style=\"text-align: right;\">\n",
       "      <th></th>\n",
       "      <th>city</th>\n",
       "      <th>venue_rank</th>\n",
       "      <th>place_rank</th>\n",
       "      <th>clean_rank</th>\n",
       "      <th>Price Index *</th>\n",
       "      <th>mean</th>\n",
       "    </tr>\n",
       "  </thead>\n",
       "  <tbody>\n",
       "    <tr>\n",
       "      <th>0</th>\n",
       "      <td>Lucknow</td>\n",
       "      <td>2</td>\n",
       "      <td>2.5</td>\n",
       "      <td>1.251163</td>\n",
       "      <td>3.0</td>\n",
       "      <td>2.187791</td>\n",
       "    </tr>\n",
       "    <tr>\n",
       "      <th>1</th>\n",
       "      <td>Chennai</td>\n",
       "      <td>3</td>\n",
       "      <td>4.0</td>\n",
       "      <td>2.325581</td>\n",
       "      <td>1.0</td>\n",
       "      <td>2.581395</td>\n",
       "    </tr>\n",
       "    <tr>\n",
       "      <th>2</th>\n",
       "      <td>Jaipur</td>\n",
       "      <td>5</td>\n",
       "      <td>5.0</td>\n",
       "      <td>1.000000</td>\n",
       "      <td>2.0</td>\n",
       "      <td>3.250000</td>\n",
       "    </tr>\n",
       "    <tr>\n",
       "      <th>3</th>\n",
       "      <td>Mumbai</td>\n",
       "      <td>1</td>\n",
       "      <td>2.5</td>\n",
       "      <td>2.325581</td>\n",
       "      <td>5.0</td>\n",
       "      <td>2.706395</td>\n",
       "    </tr>\n",
       "    <tr>\n",
       "      <th>4</th>\n",
       "      <td>Delhi</td>\n",
       "      <td>4</td>\n",
       "      <td>1.0</td>\n",
       "      <td>2.325581</td>\n",
       "      <td>4.0</td>\n",
       "      <td>2.831395</td>\n",
       "    </tr>\n",
       "  </tbody>\n",
       "</table>\n",
       "</div>"
      ],
      "text/plain": [
       "      city  venue_rank  place_rank  clean_rank  Price Index *      mean\n",
       "0  Lucknow           2         2.5    1.251163            3.0  2.187791\n",
       "1  Chennai           3         4.0    2.325581            1.0  2.581395\n",
       "2   Jaipur           5         5.0    1.000000            2.0  3.250000\n",
       "3   Mumbai           1         2.5    2.325581            5.0  2.706395\n",
       "4    Delhi           4         1.0    2.325581            4.0  2.831395"
      ]
     },
     "execution_count": 116,
     "metadata": {},
     "output_type": "execute_result"
    }
   ],
   "source": [
    "top_5_col.head()"
   ]
  },
  {
   "cell_type": "markdown",
   "metadata": {},
   "source": [
    "#### Interestingly, Lucknow wins  here"
   ]
  },
  {
   "cell_type": "markdown",
   "metadata": {},
   "source": [
    "Let's change the values to plot on graph such that higher ranked city has a longer bar graph. "
   ]
  },
  {
   "cell_type": "code",
   "execution_count": 153,
   "metadata": {},
   "outputs": [],
   "source": [
    "top_5_col_graph=pd.DataFrame(data=[],columns={'city'})\n",
    "top_5_col_graph['city']=top_5_col['city']\n",
    "top_5_col_graph['venue_bar'] = top_5_col['venue_rank'].apply(lambda x:  6-x)\n",
    "top_5_col_graph['place_bar'] = top_5_col['place_rank'].apply(lambda x:  6-x)\n",
    "top_5_col_graph['clean_bar'] = top_5_col['clean_rank'].apply(lambda x:  6-x)\n",
    "top_5_col_graph['Price Index Bar'] = top_5_col['Price Index *'].apply(lambda x:  6-x)\n",
    "top_5_col_graph['mean bar'] = top_5_col['mean'].apply(lambda x:  6-x)"
   ]
  },
  {
   "cell_type": "code",
   "execution_count": 154,
   "metadata": {
    "scrolled": true
   },
   "outputs": [
    {
     "data": {
      "text/html": [
       "<div>\n",
       "<style>\n",
       "    .dataframe thead tr:only-child th {\n",
       "        text-align: right;\n",
       "    }\n",
       "\n",
       "    .dataframe thead th {\n",
       "        text-align: left;\n",
       "    }\n",
       "\n",
       "    .dataframe tbody tr th {\n",
       "        vertical-align: top;\n",
       "    }\n",
       "</style>\n",
       "<table border=\"1\" class=\"dataframe\">\n",
       "  <thead>\n",
       "    <tr style=\"text-align: right;\">\n",
       "      <th></th>\n",
       "      <th>city</th>\n",
       "      <th>venue_bar</th>\n",
       "      <th>place_bar</th>\n",
       "      <th>clean_bar</th>\n",
       "      <th>Price Index Bar</th>\n",
       "      <th>mean bar</th>\n",
       "    </tr>\n",
       "  </thead>\n",
       "  <tbody>\n",
       "    <tr>\n",
       "      <th>0</th>\n",
       "      <td>Lucknow</td>\n",
       "      <td>4</td>\n",
       "      <td>3.5</td>\n",
       "      <td>4.748837</td>\n",
       "      <td>3.0</td>\n",
       "      <td>3.812209</td>\n",
       "    </tr>\n",
       "    <tr>\n",
       "      <th>1</th>\n",
       "      <td>Chennai</td>\n",
       "      <td>3</td>\n",
       "      <td>2.0</td>\n",
       "      <td>3.674419</td>\n",
       "      <td>5.0</td>\n",
       "      <td>3.418605</td>\n",
       "    </tr>\n",
       "    <tr>\n",
       "      <th>2</th>\n",
       "      <td>Jaipur</td>\n",
       "      <td>1</td>\n",
       "      <td>1.0</td>\n",
       "      <td>5.000000</td>\n",
       "      <td>4.0</td>\n",
       "      <td>2.750000</td>\n",
       "    </tr>\n",
       "    <tr>\n",
       "      <th>3</th>\n",
       "      <td>Mumbai</td>\n",
       "      <td>5</td>\n",
       "      <td>3.5</td>\n",
       "      <td>3.674419</td>\n",
       "      <td>1.0</td>\n",
       "      <td>3.293605</td>\n",
       "    </tr>\n",
       "    <tr>\n",
       "      <th>4</th>\n",
       "      <td>Delhi</td>\n",
       "      <td>2</td>\n",
       "      <td>5.0</td>\n",
       "      <td>3.674419</td>\n",
       "      <td>2.0</td>\n",
       "      <td>3.168605</td>\n",
       "    </tr>\n",
       "  </tbody>\n",
       "</table>\n",
       "</div>"
      ],
      "text/plain": [
       "      city  venue_bar  place_bar  clean_bar  Price Index Bar  mean bar\n",
       "0  Lucknow          4        3.5   4.748837              3.0  3.812209\n",
       "1  Chennai          3        2.0   3.674419              5.0  3.418605\n",
       "2   Jaipur          1        1.0   5.000000              4.0  2.750000\n",
       "3   Mumbai          5        3.5   3.674419              1.0  3.293605\n",
       "4    Delhi          2        5.0   3.674419              2.0  3.168605"
      ]
     },
     "execution_count": 154,
     "metadata": {},
     "output_type": "execute_result"
    }
   ],
   "source": [
    "top_5_col_graph.head()"
   ]
  },
  {
   "cell_type": "code",
   "execution_count": 156,
   "metadata": {},
   "outputs": [
    {
     "data": {
      "image/png": "[encoded data removed]",
      "text/plain": [
       "<matplotlib.figure.Figure at 0x118d92eb8>"
      ]
     },
     "metadata": {},
     "output_type": "display_data"
    }
   ],
   "source": [
    "import matplotlib.pyplot as plt\n",
    "ax = top_5_col_graph.plot(kind='bar', title =\"Cities Rank - Bar Graph\",figsize=(10,5),legend=True, fontsize=12)\n",
    "ax.set_xlabel(top_5_col_graph['city'],fontsize=12, rotation=90)\n",
    "plt.show()"
   ]
  },
  {
   "cell_type": "markdown",
   "metadata": {},
   "source": [
    "Let's now group cities into two clusters by most common venues. We can then find similar cities"
   ]
  },
  {
   "cell_type": "code",
   "execution_count": 149,
   "metadata": {},
   "outputs": [],
   "source": [
    "def return_most_common_venues(row, num_top_venues):\n",
    "    row_categories = row.iloc[1:]\n",
    "    row_categories_sorted = row_categories.sort_values(ascending=False)\n",
    "    return row_categories_sorted.index.values[1:num_top_venues+1] #Remove No Category"
   ]
  },
  {
   "cell_type": "markdown",
   "metadata": {},
   "source": [
    "Let's create a new dataframe and displacy most common 10 venues for each city"
   ]
  },
  {
   "cell_type": "code",
   "execution_count": 150,
   "metadata": {},
   "outputs": [
    {
     "data": {
      "text/html": [
       "<div>\n",
       "<style>\n",
       "    .dataframe thead tr:only-child th {\n",
       "        text-align: right;\n",
       "    }\n",
       "\n",
       "    .dataframe thead th {\n",
       "        text-align: left;\n",
       "    }\n",
       "\n",
       "    .dataframe tbody tr th {\n",
       "        vertical-align: top;\n",
       "    }\n",
       "</style>\n",
       "<table border=\"1\" class=\"dataframe\">\n",
       "  <thead>\n",
       "    <tr style=\"text-align: right;\">\n",
       "      <th></th>\n",
       "      <th>city</th>\n",
       "      <th>Accessories Store</th>\n",
       "      <th>Advertising Agency</th>\n",
       "      <th>Afghan Restaurant</th>\n",
       "      <th>American Restaurant</th>\n",
       "      <th>Antique Shop</th>\n",
       "      <th>Arcade</th>\n",
       "      <th>Art Gallery</th>\n",
       "      <th>Art Museum</th>\n",
       "      <th>Arts &amp; Crafts Store</th>\n",
       "      <th>...</th>\n",
       "      <th>Tourist Information Center</th>\n",
       "      <th>Train Station</th>\n",
       "      <th>Travel Agency</th>\n",
       "      <th>University</th>\n",
       "      <th>Vegetarian / Vegan Restaurant</th>\n",
       "      <th>Video Store</th>\n",
       "      <th>Volleyball Court</th>\n",
       "      <th>Watch Shop</th>\n",
       "      <th>Women's Store</th>\n",
       "      <th>Zoo</th>\n",
       "    </tr>\n",
       "  </thead>\n",
       "  <tbody>\n",
       "    <tr>\n",
       "      <th>0</th>\n",
       "      <td>(Chennai,)</td>\n",
       "      <td>0.000000</td>\n",
       "      <td>0.000000</td>\n",
       "      <td>0.000000</td>\n",
       "      <td>0.000000</td>\n",
       "      <td>0.000316</td>\n",
       "      <td>0.000000</td>\n",
       "      <td>0.000000</td>\n",
       "      <td>0.000000</td>\n",
       "      <td>0.000316</td>\n",
       "      <td>...</td>\n",
       "      <td>0.000316</td>\n",
       "      <td>0.001262</td>\n",
       "      <td>0.000316</td>\n",
       "      <td>0.000316</td>\n",
       "      <td>0.000000</td>\n",
       "      <td>0.000000</td>\n",
       "      <td>0.000316</td>\n",
       "      <td>0.000000</td>\n",
       "      <td>0.000316</td>\n",
       "      <td>0.000000</td>\n",
       "    </tr>\n",
       "    <tr>\n",
       "      <th>1</th>\n",
       "      <td>(Delhi,)</td>\n",
       "      <td>0.000000</td>\n",
       "      <td>0.000000</td>\n",
       "      <td>0.000000</td>\n",
       "      <td>0.000000</td>\n",
       "      <td>0.000621</td>\n",
       "      <td>0.000000</td>\n",
       "      <td>0.000000</td>\n",
       "      <td>0.000000</td>\n",
       "      <td>0.000621</td>\n",
       "      <td>...</td>\n",
       "      <td>0.000000</td>\n",
       "      <td>0.000000</td>\n",
       "      <td>0.000000</td>\n",
       "      <td>0.000000</td>\n",
       "      <td>0.000621</td>\n",
       "      <td>0.000000</td>\n",
       "      <td>0.000000</td>\n",
       "      <td>0.000000</td>\n",
       "      <td>0.001862</td>\n",
       "      <td>0.000000</td>\n",
       "    </tr>\n",
       "    <tr>\n",
       "      <th>2</th>\n",
       "      <td>(Jaipur,)</td>\n",
       "      <td>0.000000</td>\n",
       "      <td>0.000000</td>\n",
       "      <td>0.000000</td>\n",
       "      <td>0.000000</td>\n",
       "      <td>0.000000</td>\n",
       "      <td>0.000000</td>\n",
       "      <td>0.000000</td>\n",
       "      <td>0.002667</td>\n",
       "      <td>0.005333</td>\n",
       "      <td>...</td>\n",
       "      <td>0.000000</td>\n",
       "      <td>0.000000</td>\n",
       "      <td>0.000000</td>\n",
       "      <td>0.000000</td>\n",
       "      <td>0.000000</td>\n",
       "      <td>0.000000</td>\n",
       "      <td>0.000000</td>\n",
       "      <td>0.000000</td>\n",
       "      <td>0.004000</td>\n",
       "      <td>0.001333</td>\n",
       "    </tr>\n",
       "    <tr>\n",
       "      <th>3</th>\n",
       "      <td>(Lucknow,)</td>\n",
       "      <td>0.000272</td>\n",
       "      <td>0.000000</td>\n",
       "      <td>0.000272</td>\n",
       "      <td>0.000272</td>\n",
       "      <td>0.000000</td>\n",
       "      <td>0.000272</td>\n",
       "      <td>0.000000</td>\n",
       "      <td>0.000000</td>\n",
       "      <td>0.000000</td>\n",
       "      <td>...</td>\n",
       "      <td>0.000000</td>\n",
       "      <td>0.000544</td>\n",
       "      <td>0.000000</td>\n",
       "      <td>0.000000</td>\n",
       "      <td>0.000000</td>\n",
       "      <td>0.000000</td>\n",
       "      <td>0.000000</td>\n",
       "      <td>0.000000</td>\n",
       "      <td>0.000272</td>\n",
       "      <td>0.000000</td>\n",
       "    </tr>\n",
       "    <tr>\n",
       "      <th>4</th>\n",
       "      <td>(Mumbai,)</td>\n",
       "      <td>0.000216</td>\n",
       "      <td>0.000432</td>\n",
       "      <td>0.000000</td>\n",
       "      <td>0.000000</td>\n",
       "      <td>0.000216</td>\n",
       "      <td>0.000000</td>\n",
       "      <td>0.000216</td>\n",
       "      <td>0.000000</td>\n",
       "      <td>0.000216</td>\n",
       "      <td>...</td>\n",
       "      <td>0.000000</td>\n",
       "      <td>0.000432</td>\n",
       "      <td>0.000000</td>\n",
       "      <td>0.000000</td>\n",
       "      <td>0.000216</td>\n",
       "      <td>0.000216</td>\n",
       "      <td>0.000000</td>\n",
       "      <td>0.000216</td>\n",
       "      <td>0.000000</td>\n",
       "      <td>0.000000</td>\n",
       "    </tr>\n",
       "  </tbody>\n",
       "</table>\n",
       "<p>5 rows × 198 columns</p>\n",
       "</div>"
      ],
      "text/plain": [
       "         city  Accessories Store  Advertising Agency  Afghan Restaurant  \\\n",
       "0  (Chennai,)           0.000000            0.000000           0.000000   \n",
       "1    (Delhi,)           0.000000            0.000000           0.000000   \n",
       "2   (Jaipur,)           0.000000            0.000000           0.000000   \n",
       "3  (Lucknow,)           0.000272            0.000000           0.000272   \n",
       "4   (Mumbai,)           0.000216            0.000432           0.000000   \n",
       "\n",
       "   American Restaurant  Antique Shop    Arcade  Art Gallery  Art Museum  \\\n",
       "0             0.000000      0.000316  0.000000     0.000000    0.000000   \n",
       "1             0.000000      0.000621  0.000000     0.000000    0.000000   \n",
       "2             0.000000      0.000000  0.000000     0.000000    0.002667   \n",
       "3             0.000272      0.000000  0.000272     0.000000    0.000000   \n",
       "4             0.000000      0.000216  0.000000     0.000216    0.000000   \n",
       "\n",
       "   Arts & Crafts Store    ...     Tourist Information Center  Train Station  \\\n",
       "0             0.000316    ...                       0.000316       0.001262   \n",
       "1             0.000621    ...                       0.000000       0.000000   \n",
       "2             0.005333    ...                       0.000000       0.000000   \n",
       "3             0.000000    ...                       0.000000       0.000544   \n",
       "4             0.000216    ...                       0.000000       0.000432   \n",
       "\n",
       "   Travel Agency  University  Vegetarian / Vegan Restaurant  Video Store  \\\n",
       "0       0.000316    0.000316                       0.000000     0.000000   \n",
       "1       0.000000    0.000000                       0.000621     0.000000   \n",
       "2       0.000000    0.000000                       0.000000     0.000000   \n",
       "3       0.000000    0.000000                       0.000000     0.000000   \n",
       "4       0.000000    0.000000                       0.000216     0.000216   \n",
       "\n",
       "   Volleyball Court  Watch Shop  Women's Store       Zoo  \n",
       "0          0.000316    0.000000       0.000316  0.000000  \n",
       "1          0.000000    0.000000       0.001862  0.000000  \n",
       "2          0.000000    0.000000       0.004000  0.001333  \n",
       "3          0.000000    0.000000       0.000272  0.000000  \n",
       "4          0.000000    0.000216       0.000000  0.000000  \n",
       "\n",
       "[5 rows x 198 columns]"
      ]
     },
     "execution_count": 150,
     "metadata": {},
     "output_type": "execute_result"
    }
   ],
   "source": [
    "city_grouped"
   ]
  },
  {
   "cell_type": "code",
   "execution_count": 151,
   "metadata": {},
   "outputs": [
    {
     "data": {
      "text/html": [
       "<div>\n",
       "<style>\n",
       "    .dataframe thead tr:only-child th {\n",
       "        text-align: right;\n",
       "    }\n",
       "\n",
       "    .dataframe thead th {\n",
       "        text-align: left;\n",
       "    }\n",
       "\n",
       "    .dataframe tbody tr th {\n",
       "        vertical-align: top;\n",
       "    }\n",
       "</style>\n",
       "<table border=\"1\" class=\"dataframe\">\n",
       "  <thead>\n",
       "    <tr style=\"text-align: right;\">\n",
       "      <th></th>\n",
       "      <th>city</th>\n",
       "      <th>1st Most Common Venue</th>\n",
       "      <th>2nd Most Common Venue</th>\n",
       "      <th>3rd Most Common Venue</th>\n",
       "      <th>4th Most Common Venue</th>\n",
       "      <th>5th Most Common Venue</th>\n",
       "      <th>6th Most Common Venue</th>\n",
       "      <th>7th Most Common Venue</th>\n",
       "      <th>8th Most Common Venue</th>\n",
       "      <th>9th Most Common Venue</th>\n",
       "      <th>10th Most Common Venue</th>\n",
       "    </tr>\n",
       "  </thead>\n",
       "  <tbody>\n",
       "    <tr>\n",
       "      <th>0</th>\n",
       "      <td>(Chennai,)</td>\n",
       "      <td>Indian Restaurant</td>\n",
       "      <td>Office</td>\n",
       "      <td>Outlet Store</td>\n",
       "      <td>Miscellaneous Shop</td>\n",
       "      <td>Bus Station</td>\n",
       "      <td>Building</td>\n",
       "      <td>Train Station</td>\n",
       "      <td>Bank</td>\n",
       "      <td>Men's Store</td>\n",
       "      <td>Furniture / Home Store</td>\n",
       "    </tr>\n",
       "    <tr>\n",
       "      <th>1</th>\n",
       "      <td>(Delhi,)</td>\n",
       "      <td>Indian Restaurant</td>\n",
       "      <td>Snack Place</td>\n",
       "      <td>Bank</td>\n",
       "      <td>Hardware Store</td>\n",
       "      <td>Dessert Shop</td>\n",
       "      <td>Fast Food Restaurant</td>\n",
       "      <td>Office</td>\n",
       "      <td>Women's Store</td>\n",
       "      <td>Hotel</td>\n",
       "      <td>Government Building</td>\n",
       "    </tr>\n",
       "    <tr>\n",
       "      <th>2</th>\n",
       "      <td>(Jaipur,)</td>\n",
       "      <td>Bank</td>\n",
       "      <td>Indian Restaurant</td>\n",
       "      <td>Jewelry Store</td>\n",
       "      <td>Clothing Store</td>\n",
       "      <td>Historic Site</td>\n",
       "      <td>Arts &amp; Crafts Store</td>\n",
       "      <td>Ice Cream Shop</td>\n",
       "      <td>Office</td>\n",
       "      <td>Miscellaneous Shop</td>\n",
       "      <td>Hospital</td>\n",
       "    </tr>\n",
       "    <tr>\n",
       "      <th>3</th>\n",
       "      <td>(Lucknow,)</td>\n",
       "      <td>Indian Restaurant</td>\n",
       "      <td>Hotel</td>\n",
       "      <td>Platform</td>\n",
       "      <td>Clothing Store</td>\n",
       "      <td>Bank</td>\n",
       "      <td>Government Building</td>\n",
       "      <td>Motel</td>\n",
       "      <td>Bakery</td>\n",
       "      <td>Food Truck</td>\n",
       "      <td>Breakfast Spot</td>\n",
       "    </tr>\n",
       "    <tr>\n",
       "      <th>4</th>\n",
       "      <td>(Mumbai,)</td>\n",
       "      <td>Office</td>\n",
       "      <td>Fast Food Restaurant</td>\n",
       "      <td>Indian Restaurant</td>\n",
       "      <td>Camera Store</td>\n",
       "      <td>Government Building</td>\n",
       "      <td>Bar</td>\n",
       "      <td>Café</td>\n",
       "      <td>Restaurant</td>\n",
       "      <td>Bookstore</td>\n",
       "      <td>Building</td>\n",
       "    </tr>\n",
       "  </tbody>\n",
       "</table>\n",
       "</div>"
      ],
      "text/plain": [
       "         city 1st Most Common Venue 2nd Most Common Venue  \\\n",
       "0  (Chennai,)     Indian Restaurant                Office   \n",
       "1    (Delhi,)     Indian Restaurant           Snack Place   \n",
       "2   (Jaipur,)                  Bank     Indian Restaurant   \n",
       "3  (Lucknow,)     Indian Restaurant                 Hotel   \n",
       "4   (Mumbai,)                Office  Fast Food Restaurant   \n",
       "\n",
       "  3rd Most Common Venue 4th Most Common Venue 5th Most Common Venue  \\\n",
       "0          Outlet Store    Miscellaneous Shop           Bus Station   \n",
       "1                  Bank        Hardware Store          Dessert Shop   \n",
       "2         Jewelry Store        Clothing Store         Historic Site   \n",
       "3              Platform        Clothing Store                  Bank   \n",
       "4     Indian Restaurant          Camera Store   Government Building   \n",
       "\n",
       "  6th Most Common Venue 7th Most Common Venue 8th Most Common Venue  \\\n",
       "0              Building         Train Station                  Bank   \n",
       "1  Fast Food Restaurant                Office         Women's Store   \n",
       "2   Arts & Crafts Store        Ice Cream Shop                Office   \n",
       "3   Government Building                 Motel                Bakery   \n",
       "4                   Bar                  Café            Restaurant   \n",
       "\n",
       "  9th Most Common Venue  10th Most Common Venue  \n",
       "0           Men's Store  Furniture / Home Store  \n",
       "1                 Hotel     Government Building  \n",
       "2    Miscellaneous Shop                Hospital  \n",
       "3            Food Truck          Breakfast Spot  \n",
       "4             Bookstore                Building  "
      ]
     },
     "execution_count": 151,
     "metadata": {},
     "output_type": "execute_result"
    }
   ],
   "source": [
    "num_top_venues = 10\n",
    "\n",
    "indicators = ['st', 'nd', 'rd']\n",
    "\n",
    "# create columns according to number of top venues\n",
    "columns = ['city']\n",
    "for ind in np.arange(num_top_venues):\n",
    "    try:\n",
    "        columns.append('{}{} Most Common Venue'.format(ind+1, indicators[ind]))\n",
    "    except:\n",
    "        columns.append('{}th Most Common Venue'.format(ind+1))\n",
    "\n",
    "# create a new dataframe\n",
    "city_venues_sorted = pd.DataFrame(columns=columns)\n",
    "city_venues_sorted['city'] = city_grouped['city']\n",
    "\n",
    "for ind in np.arange(city_grouped.shape[0]):\n",
    "    city_venues_sorted.iloc[ind, 1:] = return_most_common_venues(city_grouped.iloc[ind, :], num_top_venues)\n",
    "\n",
    "city_venues_sorted.head()"
   ]
  },
  {
   "cell_type": "markdown",
   "metadata": {},
   "source": [
    "Let's now divide cities into two groups by using kmeans"
   ]
  },
  {
   "cell_type": "code",
   "execution_count": 167,
   "metadata": {},
   "outputs": [
    {
     "data": {
      "text/plain": [
       "array([0, 0, 1, 0, 0], dtype=int32)"
      ]
     },
     "execution_count": 167,
     "metadata": {},
     "output_type": "execute_result"
    }
   ],
   "source": [
    "# import k-means from clustering stage\n",
    "from sklearn.cluster import KMeans\n",
    "\n",
    "# set number of clusters\n",
    "kclusters = 2\n",
    "\n",
    "city_grouped_clustering = city_grouped.drop('city', 1)\n",
    "\n",
    "# run k-means clustering\n",
    "kmeans = KMeans(n_clusters=kclusters, random_state=2).fit(city_grouped_clustering)\n",
    "\n",
    "# check cluster labels generated for each row in the dataframe\n",
    "kmeans.labels_[0:5] \n",
    "\n",
    "city_venues_sorted.insert(0, 'Cluster Labels', kmeans.labels_)"
   ]
  },
  {
   "cell_type": "markdown",
   "metadata": {},
   "source": [
    "Clearly Jaipur stands out as a different city, while all other cities seem to be similar if we create 2 clusters"
   ]
  },
  {
   "cell_type": "code",
   "execution_count": 169,
   "metadata": {},
   "outputs": [
    {
     "data": {
      "text/plain": [
       "array([0, 2, 1, 0, 0], dtype=int32)"
      ]
     },
     "execution_count": 169,
     "metadata": {},
     "output_type": "execute_result"
    }
   ],
   "source": [
    "# import k-means from clustering stage\n",
    "from sklearn.cluster import KMeans\n",
    "\n",
    "# set number of clusters\n",
    "kclusters = 3\n",
    "\n",
    "city_grouped_clustering = city_grouped.drop('city', 1)\n",
    "\n",
    "# run k-means clustering\n",
    "kmeans = KMeans(n_clusters=kclusters, random_state=2).fit(city_grouped_clustering)\n",
    "\n",
    "# check cluster labels generated for each row in the dataframe\n",
    "kmeans.labels_[0:5] "
   ]
  },
  {
   "cell_type": "markdown",
   "metadata": {},
   "source": [
    "If we create 3 clusters, then Delhi & Jaipur stand out"
   ]
  },
  {
   "cell_type": "code",
   "execution_count": 171,
   "metadata": {},
   "outputs": [
    {
     "data": {
      "text/plain": [
       "array([0, 2, 1, 3, 3], dtype=int32)"
      ]
     },
     "execution_count": 171,
     "metadata": {},
     "output_type": "execute_result"
    }
   ],
   "source": [
    "# import k-means from clustering stage\n",
    "from sklearn.cluster import KMeans\n",
    "\n",
    "# set number of clusters\n",
    "kclusters = 4\n",
    "\n",
    "city_grouped_clustering = city_grouped.drop('city', 1)\n",
    "\n",
    "# run k-means clustering\n",
    "kmeans = KMeans(n_clusters=kclusters, random_state=2).fit(city_grouped_clustering)\n",
    "\n",
    "# check cluster labels generated for each row in the dataframe\n",
    "kmeans.labels_[0:5] "
   ]
  },
  {
   "cell_type": "markdown",
   "metadata": {},
   "source": [
    "If we create four clusters, Chennai also stand out . So Mumbai and Lucknow are most similar when we compare by most common venues"
   ]
  },
  {
   "cell_type": "code",
   "execution_count": null,
   "metadata": {},
   "outputs": [],
   "source": []
  }
 ],
 "metadata": {
  "kernelspec": {
   "display_name": "Python [default]",
   "language": "python",
   "name": "python3"
  },
  "language_info": {
   "codemirror_mode": {
    "name": "ipython",
    "version": 3
   },
   "file_extension": ".py",
   "mimetype": "text/x-python",
   "name": "python",
   "nbconvert_exporter": "python",
   "pygments_lexer": "ipython3",
   "version": "3.6.8"
  }
 },
 "nbformat": 4,
 "nbformat_minor": 2
}
