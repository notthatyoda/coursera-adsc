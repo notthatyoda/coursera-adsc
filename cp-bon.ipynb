{
 "cells": [
  {
   "cell_type": "markdown",
   "metadata": {},
   "source": [
    "## Introduction/Business Problem"
   ]
  },
  {
   "cell_type": "markdown",
   "metadata": {},
   "source": [
    "Shyamal is the director of a leading travel and tourism company in India. The company serves foreign tourists only and provide services for arranging stays, local sightseeing and private cabs. His company also prints travel guides for all cities in India for its customers. As of now all travel guides are printed in English Language. Shyamal wants to experiment and provide localized versions to its customers for some specific districts. He wants Yoda to find out which other two languages should be chosen for the travel guide. Additionally, he wants to finalize five cities for the beta launch of new travel guide. Shyamal also wants Yoda to suggest top 5 places for eating in these cities and highlight the best city among the five selected, as he plans to add content related to the same.\n",
    "\n",
    "As part of this capstone project Yoda will work on Shyamal's business problem and share his recommendations backed by data analysis."
   ]
  },
  {
   "cell_type": "markdown",
   "metadata": {},
   "source": [
    "## Data"
   ]
  },
  {
   "cell_type": "markdown",
   "metadata": {},
   "source": [
    "In order to find our languages we chose for translation, we need to find tourists visiting India belong to which nationalities mainly. And what is the most promiment spoken language in that country. \n",
    "\n",
    "Yoda plans to use Indian Government data on foreign tourists to identify top nationalities. \n",
    "\n",
    "[Foreign Tourist Arrivals In India from 2001 to 2015](https://data.gov.in/resources/foreign-tourist-arrivals-india-top-15-source-countries-2001-2015)\n",
    "[State/UT wise details of foreign tourist visits](https://data.gov.in/resources/stateut-wise-details-foreign-tourist-visits-2014-2016-ministry-tourism)\n",
    "\n",
    "Yoda will be using [wikipedia](https://en.wikipedia.org/wiki/List_of_official_languages_by_country_and_territory) to identify most spoken language for top 2 nations.\n",
    "\n",
    "For finding the cities for beta launch, we need to identify which cities were visted most by tourists from that nationality. \n",
    "\n",
    "For top 5 places for eating, Yoda will leverage [foursquare APIs](https://foursquare.com/developers). \n",
    "\n",
    "In addition to the data from fourquare APIs, Yoda will leverage connectivity ([Example] (https://en.wikipedia.org/wiki/Jodhpur#Transportation), [cleanliness](http://indpaedia.com/ind/index.php/Cleanliness_ranks_of_Indian_cities,_districts:_2017#Ranks_1-434:_The_complete_list),most checkins (Foursquare) for finding the best district. \n"
   ]
  },
  {
   "cell_type": "markdown",
   "metadata": {},
   "source": []
  }
 ],
 "metadata": {
  "kernelspec": {
   "display_name": "Python [default]",
   "language": "python",
   "name": "python3"
  },
  "language_info": {
   "codemirror_mode": {
    "name": "ipython",
    "version": 3
   },
   "file_extension": ".py",
   "mimetype": "text/x-python",
   "name": "python",
   "nbconvert_exporter": "python",
   "pygments_lexer": "ipython3",
   "version": "3.6.8"
  }
 },
 "nbformat": 4,
 "nbformat_minor": 2
}
