{
 "cells": [
  {
   "cell_type": "markdown",
   "metadata": {},
   "source": [
    "## Introduction/Business Problem"
   ]
  },
  {
   "cell_type": "markdown",
   "metadata": {},
   "source": [
    "Background:\n",
    "Shyamal is the director of a leading travel and tourism company in India. The company serves foreign tourists only and provide services for arranging stays, local sightseeing and private cabs. His company also prints travel guides for all cities in India for its customers. As of now all travel guides are printed in English Language. Shyamal wants to experiment and provide localized versions to its customers. He wants Yoda to find out which other **two languages should be chosen for the travel guide. \n",
    "\n",
    "Additionally, he wants to finalize **five states for the beta launch of new sections** in travel guide. Shyamal also wants Yoda to highlight the **best most populous city to visit** (This is where we will have the Battle of Neighborhoods!) from the five selected selected states, as he plans to add content related to the same.\n",
    "\n",
    "Of the five cities selected, Shyamal also wants to **highlight which cities are similar based on type of places to visit in those cities**.\n",
    "\n",
    "Target Audience: Tourists visiting India\n",
    "\n",
    "Why it is important to solve: Many tourists who do not understand English will benefit from localized version of the travel guide. Additionally, for state governments of the states selected in top 5, it will be a good excercise to review how they fare. They can run similar data science experiments at a larger scale to improve overall rating for tourists.\n",
    "\n",
    "As part of this capstone project Yoda will work on Shyamal's business problem and share his recommendations backed by data analysis."
   ]
  },
  {
   "cell_type": "markdown",
   "metadata": {},
   "source": [
    "## Data"
   ]
  },
  {
   "cell_type": "markdown",
   "metadata": {},
   "source": [
    "In order to find languages we choose for translation, we need to find tourists visiting India belong to which nation mainly. And what is the most prominent spoken language in that country. \n",
    "\n",
    "#### Data1 \n",
    "Yoda plans to use Indian Government data on foreign tourists to identify top nationalities. \n",
    "\n",
    "    [Foreign Tourist Arrivals In India from 2001 to 2015](https://data.gov.in/resources/foreign-tourist-arrivals-india-top-15-source-countries-2001-2015)\n",
    "\n",
    "    The above link provides data in various formats. Yoda plans to use CSV version. It contains yearly cumulative record of vistors from different countries sorted already\n",
    "    \n",
    "#### Data2\n",
    "Yoda will be using [wikipedia](https://en.wikipedia.org/wiki/List_of_official_languages_by_country_and_territory) to identify the official language for top 2 nations.\n",
    "\n",
    "    This page lists official languages for most nations. Yoda will leverage result of Data1 Analysis, to find **two languages** to be used for travel guides.\n",
    "\n",
    "#### Data3\n",
    "For finding the **states for beta launch**, Yoda needs to identify which states were visted the most by foreign tourists. \n",
    "\n",
    "Yoda will leverage [State/ UT wise] (https://data.gov.in/resources/stateut-wise-details-foreign-tourist-visits-2014-2016-ministry-tourism) data for this. \n",
    "\n",
    "The above link provides data in various formats. Yoda plans to use CSV version. \n",
    "\n",
    "Since each state has many cities, we will pick up top city by population(if available)  for the purpose of this assignment. We will obtain this data from [Wikipedia](https://en.wikipedia.org/wiki/List_of_cities_in_India_by_population)\n",
    "\n",
    "**Best populous city** to visit will be from the list.\n",
    "\n",
    "#### Data4\n",
    "For [best most populous to visit](https://developer.foursquare.com/docs/api/venues/explore), Yoda will use the foursquare APIs to find data for the cities identified in  *Data 3* section. This data will be used to rank cities based on most venues and most variety in venues (categories)\n",
    "\n",
    "Additionally data for cleanliness(Swatchhta) and price index will be used for ranking calculation. \n",
    "\n",
    "#### Data5\n",
    "Cleanliness data will be obtained from 2017 ranking [here](http://indpaedia.com/ind/index.php/Cleanliness_ranks_of_Indian_cities,_districts:_2017#Ranks_1-434:_The_complete_list). Since it ranks cities, Yoda will use this data directly and normalize it for ranking calculation.\n",
    "\n",
    "Price index data will be obtained from this [link](https://www.expatistan.com/cost-of-living/country/india). More the price index lower the rank. \n",
    "\n",
    "So, ranking R will be a function of data points obtained from foursquare API V (number of venues), C (number of categories), S (rank from Swatchhta Abhiyan), P (Price Index)\n",
    "\n",
    "**R = f(V,C,S,P)\n",
    "\n",
    "Yoda will use mean of ranks in each category to find the **best most populous city for visit\n",
    "\n",
    "Obviosuly one can add more parameters but for the purpose of this assignment Yoda will limit to these.\n",
    "\n",
    "\n",
    "#### Similar Cities\n",
    "Yoda will cluster five cities identified into two groups based on venue data obtained above. Cities falling in the same group will be considered similar"
   ]
  },
  {
   "cell_type": "code",
   "execution_count": null,
   "metadata": {},
   "outputs": [],
   "source": []
  }
 ],
 "metadata": {
  "kernelspec": {
   "display_name": "Python [default]",
   "language": "python",
   "name": "python3"
  },
  "language_info": {
   "codemirror_mode": {
    "name": "ipython",
    "version": 3
   },
   "file_extension": ".py",
   "mimetype": "text/x-python",
   "name": "python",
   "nbconvert_exporter": "python",
   "pygments_lexer": "ipython3",
   "version": "3.6.8"
  }
 },
 "nbformat": 4,
 "nbformat_minor": 2
}
