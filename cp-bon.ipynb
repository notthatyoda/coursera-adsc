{
 "cells": [
  {
   "cell_type": "markdown",
   "metadata": {},
   "source": [
    "## Introduction/Business Problem"
   ]
  },
  {
   "cell_type": "markdown",
   "metadata": {},
   "source": [
    "Shyamal is the director of a leading travel and tourism company in India. His company prints travel guides for all districts in India for its customers. As of now all travel guides are printed in English Language. Shyamal wants to experiment and provide localized versions to its customers for some specific districts. He wants Yoda to find out which two languages should be chosen for the experiment. Additionally, he wants to finalize five districts for the beta launch of new travel guide. Six months down the line, Shyamal wants to open a restaurant in one of these five so he wants Yoda to do some R & D and also identify where should he open the restaurant.\n",
    "\n",
    "So as part of this capstone project Yoda will work on Shyamal's business problem and share his recommendations backed by data analysis.\n"
   ]
  },
  {
   "cell_type": "code",
   "execution_count": null,
   "metadata": {},
   "outputs": [],
   "source": []
  }
 ],
 "metadata": {
  "kernelspec": {
   "display_name": "Python [default]",
   "language": "python",
   "name": "python3"
  },
  "language_info": {
   "codemirror_mode": {
    "name": "ipython",
    "version": 3
   },
   "file_extension": ".py",
   "mimetype": "text/x-python",
   "name": "python",
   "nbconvert_exporter": "python",
   "pygments_lexer": "ipython3",
   "version": "3.6.8"
  }
 },
 "nbformat": 4,
 "nbformat_minor": 2
}
