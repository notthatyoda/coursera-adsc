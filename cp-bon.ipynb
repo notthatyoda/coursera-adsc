{
 "cells": [
  {
   "cell_type": "markdown",
   "metadata": {},
   "source": [
    "## Introduction/Business Problem"
   ]
  },
  {
   "cell_type": "markdown",
   "metadata": {},
   "source": [
    "Background:\n",
    "Shyamal is the director of a leading travel and tourism company in India. The company serves foreign tourists only and provide services for arranging stays, local sightseeing and private cabs. His company also prints travel guides for all cities in India for its customers. As of now all travel guides are printed in English Language. Shyamal wants to experiment and provide localized versions to its customers. He wants Yoda to find out which other two languages should be chosen for the travel guide. \n",
    "\n",
    "Additionally, he wants to finalize five states for the beta launch of new sections in travel guide. Shyamal wants Yoda to suggest top 5 places for eating in these states and highlight the best state among the five selected, as he plans to add content related to the same.\n",
    "\n",
    "Target Audience: Tourists visiting India\n",
    "\n",
    "Why it is important to solve: Many tourists who do not understand English will benefit from localized version of the travel guide. Additionally, for state governments of the states selected in top 5, it will be a good excercise to review how they fare. They can run similar data science experiments at a larger scale to improve overall rating for tourists.\n",
    "\n",
    "As part of this capstone project Yoda will work on Shyamal's business problem and share his recommendations backed by data analysis."
   ]
  },
  {
   "cell_type": "markdown",
   "metadata": {},
   "source": [
    "## Data"
   ]
  },
  {
   "cell_type": "markdown",
   "metadata": {},
   "source": [
    "In order to find our languages we chose for translation, we need to find tourists visiting India belong to which nationalities mainly. And what is the most promiment spoken language in that country. \n",
    "\n",
    "#### Data 1 \n",
    "Yoda plans to use Indian Government data on foreign tourists to identify top nationalities. \n",
    "\n",
    "    [Foreign Tourist Arrivals In India from 2001 to 2015](https://data.gov.in/resources/foreign-tourist-arrivals-india-top-15-source-countries-2001-2015)\n",
    "\n",
    "    The above link provides data in various formats. Yoda plans to use CSV version. It contains yearly cumulative record of vistors from different countries. For the purpose of this project, we can leverage the data to project tourists in 2019 and use that projection to find top 2 countries. \n",
    "\n",
    "#### Data 2\n",
    "Yoda will be using [wikipedia](https://en.wikipedia.org/wiki/List_of_official_languages_by_country_and_territory) to identify the official language for top 2 nations.\n",
    "\n",
    "    This page lists official languages for most nations. Yoda will leverage data collected in 1, to find the languages to be used for travel guides.\n",
    "\n",
    "#### Data 3\n",
    "For finding the states for beta launch, we need to identify which states were visted the most by foreign tourists . \n",
    "\n",
    "We will leverage [State/ UT wise] (https://data.gov.in/resources/stateut-wise-details-foreign-tourist-visits-2014-2016-ministry-tourism) data for this. \n",
    "\n",
    "The above link provides data in various formats. Yoda plans to use CSV version. It contains yearly cumulative record of vistors from different countries by state/UT. For the purpose of this project, we can leverage the data to project tourists in 2019 and use that projection to find top 5 states/ UTs. \n",
    "\n",
    "#### Data 4\n",
    "4. For top 5 places for eating, Yoda will leverage [foursquare APIs](https://foursquare.com/developers). \n",
    "\n",
    "We will leverage data gathered for top 5 states to find top 5 eating places using forsquare APIs (Uisng 'https://api.foursquare.com/v2/venues/search?client_id={}&client_secret={}&ll={},{}&v={}&query={}&radius={}&limit={}' and then filtering data just as in labs for the course). Since each state has many cities, we will pick up top 5 cities by population(if available) only for the purpose of this assignment. We will obtain this data from [Wikipedia](https://en.wikipedia.org/wiki/List_of_cities_in_India_by_population)\n",
    "\n",
    "#### Data 5,6\n",
    "5. In addition to the data from fourquare APIs, Yoda will leverage [cleanliness](http://indpaedia.com/ind/index.php/Cleanliness_ranks_of_Indian_cities,_districts:_2017#Ranks_1-434:_The_complete_list),trending venues, best places to visit (Foursquare) for finding the best state among these five. \n",
    "\n",
    "Cleanliess list has cities. Yoda will rank states by number of cities it has in the list. \n",
    "\n",
    "For [trending](https://developer.foursquare.com/docs/api/venues/trending) & [best places to visit](https://developer.foursquare.com/docs/api/venues/explore), Yoda will use the foursquare APIs to find data for the cities identified in  *Data 4* section. \n",
    "\n",
    "Additionally, Yoda will use the top 5 eating places data gathered above.\n",
    "\n",
    "So, ranking R will be a function of Eating places E, Cleaniness C, Places to visit P , Trending Venues V\n",
    "\n",
    "R = f(E,C,P,V)\n",
    "\n",
    "This will require cumulating data at the state level.\n",
    "\n",
    "Obviosuly one can add more parameters but for the purpose of this assignment Yoda will limit to these.\n",
    "\n"
   ]
  },
  {
   "cell_type": "markdown",
   "metadata": {},
   "source": []
  }
 ],
 "metadata": {
  "kernelspec": {
   "display_name": "Python [default]",
   "language": "python",
   "name": "python3"
  },
  "language_info": {
   "codemirror_mode": {
    "name": "ipython",
    "version": 3
   },
   "file_extension": ".py",
   "mimetype": "text/x-python",
   "name": "python",
   "nbconvert_exporter": "python",
   "pygments_lexer": "ipython3",
   "version": "3.6.8"
  }
 },
 "nbformat": 4,
 "nbformat_minor": 2
}
